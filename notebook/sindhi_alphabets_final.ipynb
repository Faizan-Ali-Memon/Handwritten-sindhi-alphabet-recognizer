{
  "nbformat": 4,
  "nbformat_minor": 0,
  "metadata": {
    "colab": {
      "provenance": [],
      "gpuType": "T4"
    },
    "kernelspec": {
      "name": "python3",
      "display_name": "Python 3"
    },
    "language_info": {
      "name": "python"
    },
    "accelerator": "GPU"
  },
  "cells": [
    {
      "cell_type": "code",
      "execution_count": 1,
      "metadata": {
        "id": "hIOG-y1UUup_"
      },
      "outputs": [],
      "source": [
        "import matplotlib.pyplot as plt\n",
        "import numpy as np\n",
        "import cv2\n",
        "import os\n",
        "import PIL\n",
        "import tensorflow as tf\n",
        "\n",
        "from tensorflow import keras\n",
        "from tensorflow.keras import layers\n",
        "from tensorflow.keras.models import Sequential"
      ]
    },
    {
      "cell_type": "code",
      "source": [
        "pip install kaggle"
      ],
      "metadata": {
        "colab": {
          "base_uri": "https://localhost:8080/"
        },
        "id": "Wm_t72BaU-QP",
        "outputId": "4ad45ca0-72b2-4e8a-97b1-2a14595fc1ba"
      },
      "execution_count": 2,
      "outputs": [
        {
          "output_type": "stream",
          "name": "stdout",
          "text": [
            "Requirement already satisfied: kaggle in /usr/local/lib/python3.11/dist-packages (1.7.4.5)\n",
            "Requirement already satisfied: bleach in /usr/local/lib/python3.11/dist-packages (from kaggle) (6.2.0)\n",
            "Requirement already satisfied: certifi>=14.05.14 in /usr/local/lib/python3.11/dist-packages (from kaggle) (2025.6.15)\n",
            "Requirement already satisfied: charset-normalizer in /usr/local/lib/python3.11/dist-packages (from kaggle) (3.4.2)\n",
            "Requirement already satisfied: idna in /usr/local/lib/python3.11/dist-packages (from kaggle) (3.10)\n",
            "Requirement already satisfied: protobuf in /usr/local/lib/python3.11/dist-packages (from kaggle) (5.29.5)\n",
            "Requirement already satisfied: python-dateutil>=2.5.3 in /usr/local/lib/python3.11/dist-packages (from kaggle) (2.9.0.post0)\n",
            "Requirement already satisfied: python-slugify in /usr/local/lib/python3.11/dist-packages (from kaggle) (8.0.4)\n",
            "Requirement already satisfied: requests in /usr/local/lib/python3.11/dist-packages (from kaggle) (2.32.3)\n",
            "Requirement already satisfied: setuptools>=21.0.0 in /usr/local/lib/python3.11/dist-packages (from kaggle) (75.2.0)\n",
            "Requirement already satisfied: six>=1.10 in /usr/local/lib/python3.11/dist-packages (from kaggle) (1.17.0)\n",
            "Requirement already satisfied: text-unidecode in /usr/local/lib/python3.11/dist-packages (from kaggle) (1.3)\n",
            "Requirement already satisfied: tqdm in /usr/local/lib/python3.11/dist-packages (from kaggle) (4.67.1)\n",
            "Requirement already satisfied: urllib3>=1.15.1 in /usr/local/lib/python3.11/dist-packages (from kaggle) (2.4.0)\n",
            "Requirement already satisfied: webencodings in /usr/local/lib/python3.11/dist-packages (from kaggle) (0.5.1)\n"
          ]
        }
      ]
    },
    {
      "cell_type": "code",
      "source": [
        "from google.colab import files\n",
        "files.upload()"
      ],
      "metadata": {
        "colab": {
          "base_uri": "https://localhost:8080/",
          "height": 90
        },
        "id": "TsUUcpZ7VVNG",
        "outputId": "f96952a8-42a0-49e6-90fd-36c43491da80"
      },
      "execution_count": 3,
      "outputs": [
        {
          "output_type": "display_data",
          "data": {
            "text/plain": [
              "<IPython.core.display.HTML object>"
            ],
            "text/html": [
              "\n",
              "     <input type=\"file\" id=\"files-1cba44c0-473d-400e-b4cf-6644154bf032\" name=\"files[]\" multiple disabled\n",
              "        style=\"border:none\" />\n",
              "     <output id=\"result-1cba44c0-473d-400e-b4cf-6644154bf032\">\n",
              "      Upload widget is only available when the cell has been executed in the\n",
              "      current browser session. Please rerun this cell to enable.\n",
              "      </output>\n",
              "      <script>// Copyright 2017 Google LLC\n",
              "//\n",
              "// Licensed under the Apache License, Version 2.0 (the \"License\");\n",
              "// you may not use this file except in compliance with the License.\n",
              "// You may obtain a copy of the License at\n",
              "//\n",
              "//      http://www.apache.org/licenses/LICENSE-2.0\n",
              "//\n",
              "// Unless required by applicable law or agreed to in writing, software\n",
              "// distributed under the License is distributed on an \"AS IS\" BASIS,\n",
              "// WITHOUT WARRANTIES OR CONDITIONS OF ANY KIND, either express or implied.\n",
              "// See the License for the specific language governing permissions and\n",
              "// limitations under the License.\n",
              "\n",
              "/**\n",
              " * @fileoverview Helpers for google.colab Python module.\n",
              " */\n",
              "(function(scope) {\n",
              "function span(text, styleAttributes = {}) {\n",
              "  const element = document.createElement('span');\n",
              "  element.textContent = text;\n",
              "  for (const key of Object.keys(styleAttributes)) {\n",
              "    element.style[key] = styleAttributes[key];\n",
              "  }\n",
              "  return element;\n",
              "}\n",
              "\n",
              "// Max number of bytes which will be uploaded at a time.\n",
              "const MAX_PAYLOAD_SIZE = 100 * 1024;\n",
              "\n",
              "function _uploadFiles(inputId, outputId) {\n",
              "  const steps = uploadFilesStep(inputId, outputId);\n",
              "  const outputElement = document.getElementById(outputId);\n",
              "  // Cache steps on the outputElement to make it available for the next call\n",
              "  // to uploadFilesContinue from Python.\n",
              "  outputElement.steps = steps;\n",
              "\n",
              "  return _uploadFilesContinue(outputId);\n",
              "}\n",
              "\n",
              "// This is roughly an async generator (not supported in the browser yet),\n",
              "// where there are multiple asynchronous steps and the Python side is going\n",
              "// to poll for completion of each step.\n",
              "// This uses a Promise to block the python side on completion of each step,\n",
              "// then passes the result of the previous step as the input to the next step.\n",
              "function _uploadFilesContinue(outputId) {\n",
              "  const outputElement = document.getElementById(outputId);\n",
              "  const steps = outputElement.steps;\n",
              "\n",
              "  const next = steps.next(outputElement.lastPromiseValue);\n",
              "  return Promise.resolve(next.value.promise).then((value) => {\n",
              "    // Cache the last promise value to make it available to the next\n",
              "    // step of the generator.\n",
              "    outputElement.lastPromiseValue = value;\n",
              "    return next.value.response;\n",
              "  });\n",
              "}\n",
              "\n",
              "/**\n",
              " * Generator function which is called between each async step of the upload\n",
              " * process.\n",
              " * @param {string} inputId Element ID of the input file picker element.\n",
              " * @param {string} outputId Element ID of the output display.\n",
              " * @return {!Iterable<!Object>} Iterable of next steps.\n",
              " */\n",
              "function* uploadFilesStep(inputId, outputId) {\n",
              "  const inputElement = document.getElementById(inputId);\n",
              "  inputElement.disabled = false;\n",
              "\n",
              "  const outputElement = document.getElementById(outputId);\n",
              "  outputElement.innerHTML = '';\n",
              "\n",
              "  const pickedPromise = new Promise((resolve) => {\n",
              "    inputElement.addEventListener('change', (e) => {\n",
              "      resolve(e.target.files);\n",
              "    });\n",
              "  });\n",
              "\n",
              "  const cancel = document.createElement('button');\n",
              "  inputElement.parentElement.appendChild(cancel);\n",
              "  cancel.textContent = 'Cancel upload';\n",
              "  const cancelPromise = new Promise((resolve) => {\n",
              "    cancel.onclick = () => {\n",
              "      resolve(null);\n",
              "    };\n",
              "  });\n",
              "\n",
              "  // Wait for the user to pick the files.\n",
              "  const files = yield {\n",
              "    promise: Promise.race([pickedPromise, cancelPromise]),\n",
              "    response: {\n",
              "      action: 'starting',\n",
              "    }\n",
              "  };\n",
              "\n",
              "  cancel.remove();\n",
              "\n",
              "  // Disable the input element since further picks are not allowed.\n",
              "  inputElement.disabled = true;\n",
              "\n",
              "  if (!files) {\n",
              "    return {\n",
              "      response: {\n",
              "        action: 'complete',\n",
              "      }\n",
              "    };\n",
              "  }\n",
              "\n",
              "  for (const file of files) {\n",
              "    const li = document.createElement('li');\n",
              "    li.append(span(file.name, {fontWeight: 'bold'}));\n",
              "    li.append(span(\n",
              "        `(${file.type || 'n/a'}) - ${file.size} bytes, ` +\n",
              "        `last modified: ${\n",
              "            file.lastModifiedDate ? file.lastModifiedDate.toLocaleDateString() :\n",
              "                                    'n/a'} - `));\n",
              "    const percent = span('0% done');\n",
              "    li.appendChild(percent);\n",
              "\n",
              "    outputElement.appendChild(li);\n",
              "\n",
              "    const fileDataPromise = new Promise((resolve) => {\n",
              "      const reader = new FileReader();\n",
              "      reader.onload = (e) => {\n",
              "        resolve(e.target.result);\n",
              "      };\n",
              "      reader.readAsArrayBuffer(file);\n",
              "    });\n",
              "    // Wait for the data to be ready.\n",
              "    let fileData = yield {\n",
              "      promise: fileDataPromise,\n",
              "      response: {\n",
              "        action: 'continue',\n",
              "      }\n",
              "    };\n",
              "\n",
              "    // Use a chunked sending to avoid message size limits. See b/62115660.\n",
              "    let position = 0;\n",
              "    do {\n",
              "      const length = Math.min(fileData.byteLength - position, MAX_PAYLOAD_SIZE);\n",
              "      const chunk = new Uint8Array(fileData, position, length);\n",
              "      position += length;\n",
              "\n",
              "      const base64 = btoa(String.fromCharCode.apply(null, chunk));\n",
              "      yield {\n",
              "        response: {\n",
              "          action: 'append',\n",
              "          file: file.name,\n",
              "          data: base64,\n",
              "        },\n",
              "      };\n",
              "\n",
              "      let percentDone = fileData.byteLength === 0 ?\n",
              "          100 :\n",
              "          Math.round((position / fileData.byteLength) * 100);\n",
              "      percent.textContent = `${percentDone}% done`;\n",
              "\n",
              "    } while (position < fileData.byteLength);\n",
              "  }\n",
              "\n",
              "  // All done.\n",
              "  yield {\n",
              "    response: {\n",
              "      action: 'complete',\n",
              "    }\n",
              "  };\n",
              "}\n",
              "\n",
              "scope.google = scope.google || {};\n",
              "scope.google.colab = scope.google.colab || {};\n",
              "scope.google.colab._files = {\n",
              "  _uploadFiles,\n",
              "  _uploadFilesContinue,\n",
              "};\n",
              "})(self);\n",
              "</script> "
            ]
          },
          "metadata": {}
        },
        {
          "output_type": "stream",
          "name": "stdout",
          "text": [
            "Saving kaggle.json to kaggle.json\n"
          ]
        },
        {
          "output_type": "execute_result",
          "data": {
            "text/plain": [
              "{'kaggle.json': b'{\"username\":\"faizanali21bcs\",\"key\":\"718bcf7c30945439cde5db71b79dbfe5\"}'}"
            ]
          },
          "metadata": {},
          "execution_count": 3
        }
      ]
    },
    {
      "cell_type": "code",
      "source": [
        "import os\n",
        "import shutil\n",
        "\n",
        "# Create destination folder\n",
        "os.makedirs(\"/root/.kaggle\", exist_ok=True)\n",
        "\n",
        "# Move uploaded file\n",
        "shutil.move(\"kaggle.json\", \"/root/.kaggle/kaggle.json\")\n",
        "\n",
        "# Set permissions\n",
        "os.chmod(\"/root/.kaggle/kaggle.json\", 600)\n"
      ],
      "metadata": {
        "id": "xyqb_YLdVwoV"
      },
      "execution_count": 4,
      "outputs": []
    },
    {
      "cell_type": "code",
      "source": [
        "!pip install -q kaggle\n",
        "\n",
        "import kaggle\n",
        "\n",
        "kaggle.api.dataset_download_files('mudasirmurtaza/sindhi-alphabets',\n",
        "                                   path='sindhi_alphabets',\n",
        "                                   unzip=True)\n"
      ],
      "metadata": {
        "colab": {
          "base_uri": "https://localhost:8080/"
        },
        "id": "sngk8ah9WEdg",
        "outputId": "ebc12ea9-11fc-4ec2-fe37-e5a536dda7b9"
      },
      "execution_count": 5,
      "outputs": [
        {
          "output_type": "stream",
          "name": "stdout",
          "text": [
            "Dataset URL: https://www.kaggle.com/datasets/mudasirmurtaza/sindhi-alphabets\n"
          ]
        }
      ]
    },
    {
      "cell_type": "code",
      "source": [
        "data_dir = './sindhi_alphabets'"
      ],
      "metadata": {
        "id": "WJdYD4KHWJrb"
      },
      "execution_count": 6,
      "outputs": []
    },
    {
      "cell_type": "code",
      "source": [
        "data_dir"
      ],
      "metadata": {
        "colab": {
          "base_uri": "https://localhost:8080/",
          "height": 35
        },
        "id": "NqG4ZsZhWLWD",
        "outputId": "1c7c70ea-a3c6-4b08-b588-a605869d122c"
      },
      "execution_count": 7,
      "outputs": [
        {
          "output_type": "execute_result",
          "data": {
            "text/plain": [
              "'./sindhi_alphabets'"
            ],
            "application/vnd.google.colaboratory.intrinsic+json": {
              "type": "string"
            }
          },
          "metadata": {},
          "execution_count": 7
        }
      ]
    },
    {
      "cell_type": "code",
      "source": [
        "!ls sindhi_alphabets\n"
      ],
      "metadata": {
        "colab": {
          "base_uri": "https://localhost:8080/"
        },
        "id": "QEQzJWFPYFEH",
        "outputId": "a3e42579-7a32-4f8d-dca3-d07a6d132360"
      },
      "execution_count": 8,
      "outputs": [
        {
          "output_type": "stream",
          "name": "stdout",
          "text": [
            "'Complete Original Dataset'\n"
          ]
        }
      ]
    },
    {
      "cell_type": "code",
      "source": [
        "import os\n",
        "\n",
        "data_dir = './sindhi_alphabets'\n",
        "\n",
        "print(\"Contents of data directory:\")\n",
        "print(os.listdir(data_dir))  # list files/folders in dataset directory\n"
      ],
      "metadata": {
        "colab": {
          "base_uri": "https://localhost:8080/"
        },
        "id": "IDFZkdprYMci",
        "outputId": "4f7eb134-3d2a-4843-f239-50d4b62e2ca2"
      },
      "execution_count": 9,
      "outputs": [
        {
          "output_type": "stream",
          "name": "stdout",
          "text": [
            "Contents of data directory:\n",
            "['Complete Original Dataset']\n"
          ]
        }
      ]
    },
    {
      "cell_type": "code",
      "source": [
        "import os\n",
        "\n",
        "image_folder = './sindhi_alphabets/Complete Original Dataset'\n",
        "print(os.listdir(image_folder)[:10])  # show first 10 images\n"
      ],
      "metadata": {
        "colab": {
          "base_uri": "https://localhost:8080/"
        },
        "id": "40AXdS7fWOk8",
        "outputId": "dc49e490-ab95-4418-b9c0-1dcda4756ef8"
      },
      "execution_count": 10,
      "outputs": [
        {
          "output_type": "stream",
          "name": "stdout",
          "text": [
            "['ٻ', 'د', 'ق', 'ي', 'ھ', 'خ', 'ٺ', 'ڇ', 'ص', 'ف']\n"
          ]
        }
      ]
    },
    {
      "cell_type": "code",
      "source": [
        "import pathlib\n",
        "data_dir = pathlib.Path('sindhi_alphabets/Complete Original Dataset')\n",
        "data_dir"
      ],
      "metadata": {
        "colab": {
          "base_uri": "https://localhost:8080/"
        },
        "id": "2U8p8xkUYSru",
        "outputId": "a19f1141-e9b4-4173-9ece-1bd1280a1f65"
      },
      "execution_count": 11,
      "outputs": [
        {
          "output_type": "execute_result",
          "data": {
            "text/plain": [
              "PosixPath('sindhi_alphabets/Complete Original Dataset')"
            ]
          },
          "metadata": {},
          "execution_count": 11
        }
      ]
    },
    {
      "cell_type": "code",
      "source": [
        "image_count = len(list(data_dir.glob('*/*.jpg')))\n",
        "image_count"
      ],
      "metadata": {
        "colab": {
          "base_uri": "https://localhost:8080/"
        },
        "id": "xa2s6yGKWRyR",
        "outputId": "78dbd001-6ca6-4c3c-e917-a3f3cc4acc4f"
      },
      "execution_count": 12,
      "outputs": [
        {
          "output_type": "execute_result",
          "data": {
            "text/plain": [
              "3010"
            ]
          },
          "metadata": {},
          "execution_count": 12
        }
      ]
    },
    {
      "cell_type": "code",
      "source": [
        "ب = list(data_dir.glob('ب/*'))\n",
        "ب[:5]"
      ],
      "metadata": {
        "colab": {
          "base_uri": "https://localhost:8080/"
        },
        "id": "vGfeB9TDWU51",
        "outputId": "d2605445-9ddd-4522-c7d5-dccc3b679155"
      },
      "execution_count": 13,
      "outputs": [
        {
          "output_type": "execute_result",
          "data": {
            "text/plain": [
              "[PosixPath('sindhi_alphabets/Complete Original Dataset/ب/block_0_4 (11th copy).jpg'),\n",
              " PosixPath('sindhi_alphabets/Complete Original Dataset/ب/5 (2).jpg'),\n",
              " PosixPath('sindhi_alphabets/Complete Original Dataset/ب/block_0_4 (3rd copy).jpg'),\n",
              " PosixPath('sindhi_alphabets/Complete Original Dataset/ب/2 (2).jpg'),\n",
              " PosixPath('sindhi_alphabets/Complete Original Dataset/ب/block_0_4 (9th copy).jpg')]"
            ]
          },
          "metadata": {},
          "execution_count": 13
        }
      ]
    },
    {
      "cell_type": "code",
      "source": [
        "from PIL import Image\n",
        "\n",
        "Image.open(str(ب[1]))"
      ],
      "metadata": {
        "colab": {
          "base_uri": "https://localhost:8080/",
          "height": 230
        },
        "id": "kdMGRJyOWiou",
        "outputId": "43c305a4-e12a-4616-daf2-cb3035ac2f5a"
      },
      "execution_count": 14,
      "outputs": [
        {
          "output_type": "execute_result",
          "data": {
            "text/plain": [
              "<PIL.JpegImagePlugin.JpegImageFile image mode=RGB size=180x213>"
            ],
            "image/png": "[encoded data removed]",
            "image/jpeg": "[encoded data removed]"
          },
          "metadata": {},
          "execution_count": 14
        }
      ]
    },
    {
      "cell_type": "code",
      "source": [
        "from pathlib import Path\n",
        "\n",
        "data_dir = Path('./sindhi_alphabets/Complete Original Dataset')\n",
        "\n",
        "sindhi_alphabets = [\n",
        "    'ء','ا', 'ب', 'ٻ','ڀ', 'پ','ت','ٺ' ,'ٿ','ٽ', 'ث', 'ج','جھ','ڃ','ڄ','ڇ',\n",
        "    'چ', 'ح', 'خ','ڊ','ڍ','ڏ','د', 'ذ','ڌ', 'ر', 'ز','ڙ', 'س', 'ش', 'ص',\n",
        "    'ض','ط', 'ظ', 'ع', 'غ', 'ف','ڦ', 'ق', 'ک','ڪ', 'گ','گھ','ڱ','ڳ', 'ل',\n",
        "    'م','ن', 'ڻ','ھ','و', 'ي',\n",
        "]\n",
        "\n",
        "sindhi_alphabets_images_dict = {\n",
        "    letter: list(data_dir.glob(f'{letter}/*'))\n",
        "    for letter in sindhi_alphabets\n",
        "}\n",
        "\n",
        "# Test print the number of images per letter\n",
        "for letter, files in sindhi_alphabets_images_dict.items():\n",
        "    print(f\"{letter}: {len(files)} images\")\n"
      ],
      "metadata": {
        "colab": {
          "base_uri": "https://localhost:8080/"
        },
        "id": "5qX8rlCWZ1R4",
        "outputId": "63fcf259-c9c2-4e72-c64d-88e057602a81"
      },
      "execution_count": 15,
      "outputs": [
        {
          "output_type": "stream",
          "name": "stdout",
          "text": [
            "ء: 58 images\n",
            "ا: 58 images\n",
            "ب: 58 images\n",
            "ٻ: 58 images\n",
            "ڀ: 58 images\n",
            "پ: 58 images\n",
            "ت: 58 images\n",
            "ٺ: 58 images\n",
            "ٿ: 58 images\n",
            "ٽ: 58 images\n",
            "ث: 58 images\n",
            "ج: 58 images\n",
            "جھ: 58 images\n",
            "ڃ: 58 images\n",
            "ڄ: 58 images\n",
            "ڇ: 58 images\n",
            "چ: 58 images\n",
            "ح: 58 images\n",
            "خ: 58 images\n",
            "ڊ: 58 images\n",
            "ڍ: 58 images\n",
            "ڏ: 58 images\n",
            "د: 58 images\n",
            "ذ: 58 images\n",
            "ڌ: 58 images\n",
            "ر: 58 images\n",
            "ز: 58 images\n",
            "ڙ: 58 images\n",
            "س: 58 images\n",
            "ش: 58 images\n",
            "ص: 58 images\n",
            "ض: 58 images\n",
            "ط: 58 images\n",
            "ظ: 58 images\n",
            "ع: 58 images\n",
            "غ: 58 images\n",
            "ف: 58 images\n",
            "ڦ: 58 images\n",
            "ق: 58 images\n",
            "ک: 58 images\n",
            "ڪ: 58 images\n",
            "گ: 58 images\n",
            "گھ: 58 images\n",
            "ڱ: 58 images\n",
            "ڳ: 58 images\n",
            "ل: 58 images\n",
            "م: 58 images\n",
            "ن: 58 images\n",
            "ڻ: 58 images\n",
            "ھ: 58 images\n",
            "و: 58 images\n",
            "ي: 58 images\n"
          ]
        }
      ]
    },
    {
      "cell_type": "code",
      "source": [
        "sindhi_alphabets_images_dict['ا']"
      ],
      "metadata": {
        "colab": {
          "base_uri": "https://localhost:8080/"
        },
        "id": "Fw3QXBaZZ4ne",
        "outputId": "f1a16b3f-41af-404c-b4b0-a86ed02649ae"
      },
      "execution_count": 16,
      "outputs": [
        {
          "output_type": "execute_result",
          "data": {
            "text/plain": [
              "[PosixPath('sindhi_alphabets/Complete Original Dataset/ا/5 (2).jpg'),\n",
              " PosixPath('sindhi_alphabets/Complete Original Dataset/ا/block_0_5 (14).jpg'),\n",
              " PosixPath('sindhi_alphabets/Complete Original Dataset/ا/2 (2).jpg'),\n",
              " PosixPath('sindhi_alphabets/Complete Original Dataset/ا/block_0_5 (3rd copy).jpg'),\n",
              " PosixPath('sindhi_alphabets/Complete Original Dataset/ا/block_0_5 (7).jpg'),\n",
              " PosixPath('sindhi_alphabets/Complete Original Dataset/ا/block_0_5 (7th copy).jpg'),\n",
              " PosixPath('sindhi_alphabets/Complete Original Dataset/ا/block_0_5 (6).jpg'),\n",
              " PosixPath('sindhi_alphabets/Complete Original Dataset/ا/block_0_5 (8).jpg'),\n",
              " PosixPath('sindhi_alphabets/Complete Original Dataset/ا/block_0_5 (15).jpg'),\n",
              " PosixPath('sindhi_alphabets/Complete Original Dataset/ا/block_0_5 (6th copy).jpg'),\n",
              " PosixPath('sindhi_alphabets/Complete Original Dataset/ا/block_0_5 (9th copy).jpg'),\n",
              " PosixPath('sindhi_alphabets/Complete Original Dataset/ا/block_0_5 (17).jpg'),\n",
              " PosixPath('sindhi_alphabets/Complete Original Dataset/ا/block_0_5 (10).jpg'),\n",
              " PosixPath('sindhi_alphabets/Complete Original Dataset/ا/block_0_5 (15th copy).jpg'),\n",
              " PosixPath('sindhi_alphabets/Complete Original Dataset/ا/block_0_5 (14th copy).jpg'),\n",
              " PosixPath('sindhi_alphabets/Complete Original Dataset/ا/5.jpg'),\n",
              " PosixPath('sindhi_alphabets/Complete Original Dataset/ا/block_0_5 (4).jpg'),\n",
              " PosixPath('sindhi_alphabets/Complete Original Dataset/ا/8.jpg'),\n",
              " PosixPath('sindhi_alphabets/Complete Original Dataset/ا/block_0_5 (13).jpg'),\n",
              " PosixPath('sindhi_alphabets/Complete Original Dataset/ا/16.jpg'),\n",
              " PosixPath('sindhi_alphabets/Complete Original Dataset/ا/7.jpg'),\n",
              " PosixPath('sindhi_alphabets/Complete Original Dataset/ا/block_0_5 (16).jpg'),\n",
              " PosixPath('sindhi_alphabets/Complete Original Dataset/ا/12.jpg'),\n",
              " PosixPath('sindhi_alphabets/Complete Original Dataset/ا/block_0_5 (16th copy).jpg'),\n",
              " PosixPath('sindhi_alphabets/Complete Original Dataset/ا/1.jpg'),\n",
              " PosixPath('sindhi_alphabets/Complete Original Dataset/ا/block_0_5 (11).jpg'),\n",
              " PosixPath('sindhi_alphabets/Complete Original Dataset/ا/6.jpg'),\n",
              " PosixPath('sindhi_alphabets/Complete Original Dataset/ا/block_0_5 (2).jpg'),\n",
              " PosixPath('sindhi_alphabets/Complete Original Dataset/ا/3.jpg'),\n",
              " PosixPath('sindhi_alphabets/Complete Original Dataset/ا/block_0_5 (8th copy).jpg'),\n",
              " PosixPath('sindhi_alphabets/Complete Original Dataset/ا/block_0_5 (9).jpg'),\n",
              " PosixPath('sindhi_alphabets/Complete Original Dataset/ا/block_0_5 (18).jpg'),\n",
              " PosixPath('sindhi_alphabets/Complete Original Dataset/ا/13.jpg'),\n",
              " PosixPath('sindhi_alphabets/Complete Original Dataset/ا/block_0_5 (10th copy).jpg'),\n",
              " PosixPath('sindhi_alphabets/Complete Original Dataset/ا/block_0_5 (12th copy).jpg'),\n",
              " PosixPath('sindhi_alphabets/Complete Original Dataset/ا/14.jpg'),\n",
              " PosixPath('sindhi_alphabets/Complete Original Dataset/ا/1 (2).jpg'),\n",
              " PosixPath('sindhi_alphabets/Complete Original Dataset/ا/block_0_5 (5th copy).jpg'),\n",
              " PosixPath('sindhi_alphabets/Complete Original Dataset/ا/block_0_5.jpg'),\n",
              " PosixPath('sindhi_alphabets/Complete Original Dataset/ا/block_0_5 (3).jpg'),\n",
              " PosixPath('sindhi_alphabets/Complete Original Dataset/ا/block_0_5 (19).jpg'),\n",
              " PosixPath('sindhi_alphabets/Complete Original Dataset/ا/block_0_5 (4th copy).jpg'),\n",
              " PosixPath('sindhi_alphabets/Complete Original Dataset/ا/2.jpg'),\n",
              " PosixPath('sindhi_alphabets/Complete Original Dataset/ا/9.jpg'),\n",
              " PosixPath('sindhi_alphabets/Complete Original Dataset/ا/block_0_5 (17th copy).jpg'),\n",
              " PosixPath('sindhi_alphabets/Complete Original Dataset/ا/11.jpg'),\n",
              " PosixPath('sindhi_alphabets/Complete Original Dataset/ا/block_0_5 (copy).jpg'),\n",
              " PosixPath('sindhi_alphabets/Complete Original Dataset/ا/block_0_5 (another copy).jpg'),\n",
              " PosixPath('sindhi_alphabets/Complete Original Dataset/ا/block_0_5 (11th copy).jpg'),\n",
              " PosixPath('sindhi_alphabets/Complete Original Dataset/ا/block_0_5 (12).jpg'),\n",
              " PosixPath('sindhi_alphabets/Complete Original Dataset/ا/3 (2).jpg'),\n",
              " PosixPath('sindhi_alphabets/Complete Original Dataset/ا/block_0_5 (13th copy).jpg'),\n",
              " PosixPath('sindhi_alphabets/Complete Original Dataset/ا/15.jpg'),\n",
              " PosixPath('sindhi_alphabets/Complete Original Dataset/ا/10.jpg'),\n",
              " PosixPath('sindhi_alphabets/Complete Original Dataset/ا/block_0_5 (5).jpg'),\n",
              " PosixPath('sindhi_alphabets/Complete Original Dataset/ا/4.jpg'),\n",
              " PosixPath('sindhi_alphabets/Complete Original Dataset/ا/block_0_5 (18th copy).jpg'),\n",
              " PosixPath('sindhi_alphabets/Complete Original Dataset/ا/4 (2).jpg')]"
            ]
          },
          "metadata": {},
          "execution_count": 16
        }
      ]
    },
    {
      "cell_type": "code",
      "source": [
        "print(data_dir)\n"
      ],
      "metadata": {
        "colab": {
          "base_uri": "https://localhost:8080/"
        },
        "id": "KMxOYQQqZ7L3",
        "outputId": "339d0e95-9059-4f73-86ea-750928d2a274"
      },
      "execution_count": 17,
      "outputs": [
        {
          "output_type": "stream",
          "name": "stdout",
          "text": [
            "sindhi_alphabets/Complete Original Dataset\n"
          ]
        }
      ]
    },
    {
      "cell_type": "code",
      "source": [
        "alphabets = [\n",
        "    'ء','ا', 'ب', 'ٻ','ڀ', 'پ','ت','ٺ' ,'ٿ','ٽ', 'ث', 'ج','جھ','ڃ','ڄ','ڇ',\n",
        "    'چ', 'ح', 'خ','ڊ','ڍ','ڏ','د', 'ذ','ڌ', 'ر', 'ز','ڙ', 'س', 'ش', 'ص',\n",
        "    'ض','ط', 'ظ', 'ع', 'غ', 'ف','ڦ', 'ق', 'ک','ڪ', 'گ','گھ','ڱ','ڳ', 'ل',\n",
        "    'م','ن', 'ڻ','ھ','و', 'ي',\n",
        "]\n",
        "\n",
        "alphabet_labels_dict = {letter: idx for idx, letter in enumerate(alphabets)}\n",
        "\n",
        "print(alphabet_labels_dict)\n"
      ],
      "metadata": {
        "colab": {
          "base_uri": "https://localhost:8080/"
        },
        "id": "BYMbLyJdZ-po",
        "outputId": "8c40ccd1-db0b-458d-86f4-e908fc59b203"
      },
      "execution_count": 18,
      "outputs": [
        {
          "output_type": "stream",
          "name": "stdout",
          "text": [
            "{'ء': 0, 'ا': 1, 'ب': 2, 'ٻ': 3, 'ڀ': 4, 'پ': 5, 'ت': 6, 'ٺ': 7, 'ٿ': 8, 'ٽ': 9, 'ث': 10, 'ج': 11, 'جھ': 12, 'ڃ': 13, 'ڄ': 14, 'ڇ': 15, 'چ': 16, 'ح': 17, 'خ': 18, 'ڊ': 19, 'ڍ': 20, 'ڏ': 21, 'د': 22, 'ذ': 23, 'ڌ': 24, 'ر': 25, 'ز': 26, 'ڙ': 27, 'س': 28, 'ش': 29, 'ص': 30, 'ض': 31, 'ط': 32, 'ظ': 33, 'ع': 34, 'غ': 35, 'ف': 36, 'ڦ': 37, 'ق': 38, 'ک': 39, 'ڪ': 40, 'گ': 41, 'گھ': 42, 'ڱ': 43, 'ڳ': 44, 'ل': 45, 'م': 46, 'ن': 47, 'ڻ': 48, 'ھ': 49, 'و': 50, 'ي': 51}\n"
          ]
        }
      ]
    },
    {
      "cell_type": "code",
      "source": [
        "str(sindhi_alphabets_images_dict['ب'][0])"
      ],
      "metadata": {
        "colab": {
          "base_uri": "https://localhost:8080/",
          "height": 35
        },
        "id": "GCyWiHQ0aB-j",
        "outputId": "d14cb95c-133e-42e1-a382-fd7335718a49"
      },
      "execution_count": 19,
      "outputs": [
        {
          "output_type": "execute_result",
          "data": {
            "text/plain": [
              "'sindhi_alphabets/Complete Original Dataset/ب/block_0_4 (11th copy).jpg'"
            ],
            "application/vnd.google.colaboratory.intrinsic+json": {
              "type": "string"
            }
          },
          "metadata": {},
          "execution_count": 19
        }
      ]
    },
    {
      "cell_type": "code",
      "source": [
        "import cv2\n",
        "img = cv2.imread(str(sindhi_alphabets_images_dict['ب'][0]))\n",
        "img.shape"
      ],
      "metadata": {
        "colab": {
          "base_uri": "https://localhost:8080/"
        },
        "id": "OnPVwImRaDy7",
        "outputId": "7135a33a-7b9b-4e19-be78-90daf558793f"
      },
      "execution_count": 20,
      "outputs": [
        {
          "output_type": "execute_result",
          "data": {
            "text/plain": [
              "(213, 180, 3)"
            ]
          },
          "metadata": {},
          "execution_count": 20
        }
      ]
    },
    {
      "cell_type": "code",
      "source": [
        "X = []\n",
        "y = []\n",
        "\n",
        "for alphabet, images in sindhi_alphabets_images_dict.items():\n",
        "    for image in images:\n",
        "        img = cv2.imread(str(image))\n",
        "        resized_img = cv2.resize(img, (224, 224))\n",
        "        X.append(resized_img)\n",
        "        y.append(alphabet_labels_dict[alphabet])"
      ],
      "metadata": {
        "id": "v5X5BJ3NaFfM"
      },
      "execution_count": 21,
      "outputs": []
    },
    {
      "cell_type": "code",
      "source": [
        "X[:1]"
      ],
      "metadata": {
        "colab": {
          "base_uri": "https://localhost:8080/"
        },
        "id": "yU71MBS5aG-3",
        "outputId": "5565badc-ae3c-4375-e931-47c727ce193f"
      },
      "execution_count": 22,
      "outputs": [
        {
          "output_type": "execute_result",
          "data": {
            "text/plain": [
              "[array([[[ 10,   6,   5],\n",
              "         [119, 115, 114],\n",
              "         [211, 209, 208],\n",
              "         ...,\n",
              "         [ 90,  81,  77],\n",
              "         [ 13,   4,   1],\n",
              "         [ 12,   3,   0]],\n",
              " \n",
              "        [[ 10,   5,   4],\n",
              "         [119, 114, 113],\n",
              "         [210, 208, 207],\n",
              "         ...,\n",
              "         [ 94,  85,  81],\n",
              "         [ 16,   7,   3],\n",
              "         [ 11,   2,   0]],\n",
              " \n",
              "        [[ 10,   2,   2],\n",
              "         [119, 113, 112],\n",
              "         [210, 207, 205],\n",
              "         ...,\n",
              "         [100,  90,  86],\n",
              "         [ 20,  10,   6],\n",
              "         [ 14,   4,   0]],\n",
              " \n",
              "        ...,\n",
              " \n",
              "        [[  8,   4,   3],\n",
              "         [  9,   4,   3],\n",
              "         [ 81,  72,  72],\n",
              "         ...,\n",
              "         [254, 254, 251],\n",
              "         [254, 252, 248],\n",
              "         [253, 252, 248]],\n",
              " \n",
              "        [[  9,   5,   4],\n",
              "         [  8,   3,   2],\n",
              "         [ 70,  61,  61],\n",
              "         ...,\n",
              "         [252, 252, 249],\n",
              "         [253, 252, 248],\n",
              "         [253, 252, 248]],\n",
              " \n",
              "        [[  8,   4,   3],\n",
              "         [  6,   2,   1],\n",
              "         [ 62,  54,  53],\n",
              "         ...,\n",
              "         [251, 251, 248],\n",
              "         [252, 251, 248],\n",
              "         [254, 253, 249]]], dtype=uint8)]"
            ]
          },
          "metadata": {},
          "execution_count": 22
        }
      ]
    },
    {
      "cell_type": "code",
      "source": [
        "import numpy as np\n",
        "\n",
        "X = np.array(X)\n",
        "y = np.array(y)\n"
      ],
      "metadata": {
        "id": "1aUtINzRaJSS"
      },
      "execution_count": 23,
      "outputs": []
    },
    {
      "cell_type": "code",
      "source": [
        "from sklearn.model_selection import train_test_split\n",
        "\n",
        "X_train, X_test, y_train, y_test = train_test_split(X, y, stratify=y, test_size=0.05, random_state=0)"
      ],
      "metadata": {
        "id": "Rw9ek1VJaLh0"
      },
      "execution_count": 24,
      "outputs": []
    },
    {
      "cell_type": "code",
      "source": [
        "len(X_train)"
      ],
      "metadata": {
        "colab": {
          "base_uri": "https://localhost:8080/"
        },
        "id": "2EbeL-2PaNC_",
        "outputId": "0365092b-ded2-489b-e0fb-ef149b09738d"
      },
      "execution_count": 25,
      "outputs": [
        {
          "output_type": "execute_result",
          "data": {
            "text/plain": [
              "2865"
            ]
          },
          "metadata": {},
          "execution_count": 25
        }
      ]
    },
    {
      "cell_type": "code",
      "source": [
        "len(X_test)"
      ],
      "metadata": {
        "colab": {
          "base_uri": "https://localhost:8080/"
        },
        "id": "6r2jY-7yaOiU",
        "outputId": "e24ef3b4-cb80-409f-c420-fc456c885819"
      },
      "execution_count": 26,
      "outputs": [
        {
          "output_type": "execute_result",
          "data": {
            "text/plain": [
              "151"
            ]
          },
          "metadata": {},
          "execution_count": 26
        }
      ]
    },
    {
      "cell_type": "code",
      "source": [
        "X[69]"
      ],
      "metadata": {
        "colab": {
          "base_uri": "https://localhost:8080/",
          "height": 264
        },
        "id": "o2pjMf3EaQAN",
        "outputId": "852b1db4-6ded-4eaa-8ced-33cf123a43f5"
      },
      "execution_count": 27,
      "outputs": [
        {
          "output_type": "execute_result",
          "data": {
            "text/plain": [
              "array([[[255, 255, 255],\n",
              "        [255, 255, 255],\n",
              "        [255, 255, 255],\n",
              "        ...,\n",
              "        [254, 255, 251],\n",
              "        [254, 255, 251],\n",
              "        [254, 255, 251]],\n",
              "\n",
              "       [[255, 255, 255],\n",
              "        [255, 255, 255],\n",
              "        [255, 255, 255],\n",
              "        ...,\n",
              "        [255, 255, 253],\n",
              "        [255, 255, 253],\n",
              "        [255, 255, 252]],\n",
              "\n",
              "       [[255, 255, 255],\n",
              "        [255, 255, 255],\n",
              "        [255, 255, 255],\n",
              "        ...,\n",
              "        [255, 255, 254],\n",
              "        [255, 255, 254],\n",
              "        [255, 255, 254]],\n",
              "\n",
              "       ...,\n",
              "\n",
              "       [[250, 255, 254],\n",
              "        [250, 253, 253],\n",
              "        [252, 252, 252],\n",
              "        ...,\n",
              "        [255, 255, 255],\n",
              "        [255, 255, 255],\n",
              "        [255, 255, 255]],\n",
              "\n",
              "       [[249, 254, 253],\n",
              "        [248, 251, 251],\n",
              "        [251, 251, 251],\n",
              "        ...,\n",
              "        [255, 255, 255],\n",
              "        [255, 255, 255],\n",
              "        [255, 255, 255]],\n",
              "\n",
              "       [[251, 255, 255],\n",
              "        [249, 251, 251],\n",
              "        [250, 252, 251],\n",
              "        ...,\n",
              "        [255, 255, 255],\n",
              "        [255, 255, 255],\n",
              "        [255, 255, 255]]], dtype=uint8)"
            ],
            "text/html": [
              "<style>\n",
              "      .ndarray_repr .ndarray_raw_data {\n",
              "        display: none;\n",
              "      }\n",
              "      .ndarray_repr.show_array .ndarray_raw_data {\n",
              "        display: block;\n",
              "      }\n",
              "      .ndarray_repr.show_array .ndarray_image_preview {\n",
              "        display: none;\n",
              "      }\n",
              "      </style>\n",
              "      <div id=\"id-84d44a1c-200c-4708-a7dd-fea2f5ee8171\" class=\"ndarray_repr\"><pre>ndarray (224, 224, 3) <button style=\"padding: 0 2px;\">show data</button></pre><img src=\"data:image/png;base64,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\" class=\"ndarray_image_preview\" /><pre class=\"ndarray_raw_data\">array([[[255, 255, 255],\n",
              "        [255, 255, 255],\n",
              "        [255, 255, 255],\n",
              "        ...,\n",
              "        [254, 255, 251],\n",
              "        [254, 255, 251],\n",
              "        [254, 255, 251]],\n",
              "\n",
              "       [[255, 255, 255],\n",
              "        [255, 255, 255],\n",
              "        [255, 255, 255],\n",
              "        ...,\n",
              "        [255, 255, 253],\n",
              "        [255, 255, 253],\n",
              "        [255, 255, 252]],\n",
              "\n",
              "       [[255, 255, 255],\n",
              "        [255, 255, 255],\n",
              "        [255, 255, 255],\n",
              "        ...,\n",
              "        [255, 255, 254],\n",
              "        [255, 255, 254],\n",
              "        [255, 255, 254]],\n",
              "\n",
              "       ...,\n",
              "\n",
              "       [[250, 255, 254],\n",
              "        [250, 253, 253],\n",
              "        [252, 252, 252],\n",
              "        ...,\n",
              "        [255, 255, 255],\n",
              "        [255, 255, 255],\n",
              "        [255, 255, 255]],\n",
              "\n",
              "       [[249, 254, 253],\n",
              "        [248, 251, 251],\n",
              "        [251, 251, 251],\n",
              "        ...,\n",
              "        [255, 255, 255],\n",
              "        [255, 255, 255],\n",
              "        [255, 255, 255]],\n",
              "\n",
              "       [[251, 255, 255],\n",
              "        [249, 251, 251],\n",
              "        [250, 252, 251],\n",
              "        ...,\n",
              "        [255, 255, 255],\n",
              "        [255, 255, 255],\n",
              "        [255, 255, 255]]], dtype=uint8)</pre></div><script>\n",
              "      (() => {\n",
              "      const titles = ['show data', 'hide data'];\n",
              "      let index = 0\n",
              "      document.querySelector('#id-84d44a1c-200c-4708-a7dd-fea2f5ee8171 button').onclick = (e) => {\n",
              "        document.querySelector('#id-84d44a1c-200c-4708-a7dd-fea2f5ee8171').classList.toggle('show_array');\n",
              "        index = (++index) % 2;\n",
              "        document.querySelector('#id-84d44a1c-200c-4708-a7dd-fea2f5ee8171 button').textContent = titles[index];\n",
              "        e.preventDefault();\n",
              "        e.stopPropagation();\n",
              "      }\n",
              "      })();\n",
              "    </script>"
            ]
          },
          "metadata": {},
          "execution_count": 27
        }
      ]
    },
    {
      "cell_type": "code",
      "source": [
        "X_train_scaled = X_train.astype('float32') / 255.0\n",
        "X_test_scaled = X_test.astype('float32') / 255.0"
      ],
      "metadata": {
        "id": "xGSg8t0faRlX"
      },
      "execution_count": 28,
      "outputs": []
    },
    {
      "cell_type": "code",
      "source": [
        "X_test_scaled[140]"
      ],
      "metadata": {
        "colab": {
          "base_uri": "https://localhost:8080/"
        },
        "id": "ZVHWN_rfaTjL",
        "outputId": "ad8faa9e-82bc-4dd3-e1d3-52d6f92d7b5f"
      },
      "execution_count": 29,
      "outputs": [
        {
          "output_type": "execute_result",
          "data": {
            "text/plain": [
              "array([[[0.99607843, 1.        , 0.98039216],\n",
              "        [0.99607843, 1.        , 0.98039216],\n",
              "        [0.99607843, 1.        , 0.98039216],\n",
              "        ...,\n",
              "        [0.01960784, 0.01568628, 0.01568628],\n",
              "        [0.10196079, 0.09411765, 0.09411765],\n",
              "        [0.28627452, 0.2784314 , 0.2784314 ]],\n",
              "\n",
              "       [[0.99607843, 1.        , 0.98039216],\n",
              "        [0.99607843, 1.        , 0.98039216],\n",
              "        [1.        , 1.        , 0.98039216],\n",
              "        ...,\n",
              "        [0.01960784, 0.01568628, 0.01568628],\n",
              "        [0.10588235, 0.09803922, 0.09803922],\n",
              "        [0.2901961 , 0.28235295, 0.28235295]],\n",
              "\n",
              "       [[0.99607843, 1.        , 0.9843137 ],\n",
              "        [0.99607843, 1.        , 0.9843137 ],\n",
              "        [1.        , 1.        , 0.9843137 ],\n",
              "        ...,\n",
              "        [0.02745098, 0.01568628, 0.01176471],\n",
              "        [0.10980392, 0.09803922, 0.09411765],\n",
              "        [0.3019608 , 0.2901961 , 0.28627452]],\n",
              "\n",
              "       ...,\n",
              "\n",
              "       [[0.9529412 , 0.972549  , 0.9764706 ],\n",
              "        [0.9411765 , 0.9607843 , 0.9647059 ],\n",
              "        [0.9254902 , 0.94509804, 0.95686275],\n",
              "        ...,\n",
              "        [0.30980393, 0.29411766, 0.2901961 ],\n",
              "        [0.7137255 , 0.6901961 , 0.6901961 ],\n",
              "        [0.9529412 , 0.92156863, 0.92156863]],\n",
              "\n",
              "       [[0.9529412 , 0.972549  , 0.9764706 ],\n",
              "        [0.9372549 , 0.95686275, 0.9607843 ],\n",
              "        [0.92941177, 0.94509804, 0.9607843 ],\n",
              "        ...,\n",
              "        [0.32156864, 0.29411766, 0.29411766],\n",
              "        [0.7137255 , 0.68235296, 0.68235296],\n",
              "        [0.93333334, 0.9019608 , 0.9019608 ]],\n",
              "\n",
              "       [[0.9529412 , 0.972549  , 0.9764706 ],\n",
              "        [0.95686275, 0.9764706 , 0.98039216],\n",
              "        [0.9529412 , 0.972549  , 0.9843137 ],\n",
              "        ...,\n",
              "        [0.31764707, 0.29411766, 0.29411766],\n",
              "        [0.72156864, 0.6901961 , 0.6901961 ],\n",
              "        [0.9529412 , 0.92156863, 0.92156863]]], dtype=float32)"
            ]
          },
          "metadata": {},
          "execution_count": 29
        }
      ]
    },
    {
      "cell_type": "code",
      "source": [
        "import matplotlib.pyplot as plt\n",
        "plt.axis('off')\n",
        "plt.imshow(X[0])"
      ],
      "metadata": {
        "colab": {
          "base_uri": "https://localhost:8080/",
          "height": 423
        },
        "id": "wR_16ZNNaWx6",
        "outputId": "efb31bc6-f930-447c-fb78-2515845ba153"
      },
      "execution_count": 30,
      "outputs": [
        {
          "output_type": "execute_result",
          "data": {
            "text/plain": [
              "<matplotlib.image.AxesImage at 0x7f1c289365d0>"
            ]
          },
          "metadata": {},
          "execution_count": 30
        },
        {
          "output_type": "display_data",
          "data": {
            "text/plain": [
              "<Figure size 640x480 with 1 Axes>"
            ],
            "image/png": "[encoded data removed]"
          },
          "metadata": {}
        }
      ]
    },
    {
      "cell_type": "code",
      "source": [
        "data_augmentation = tf.keras.Sequential([\n",
        "    tf.keras.layers.RandomFlip(\"horizontal\"),\n",
        "    tf.keras.layers.RandomRotation(0.1),\n",
        "    tf.keras.layers.RandomZoom(0.1),\n",
        "    tf.keras.layers.RandomTranslation(0.1, 0.1),\n",
        "    tf.keras.layers.RandomContrast(0.1),\n",
        "])"
      ],
      "metadata": {
        "id": "iG1hr4VNaYw1"
      },
      "execution_count": 31,
      "outputs": []
    },
    {
      "cell_type": "code",
      "source": [
        "# import matplotlib.pyplot as plt\n",
        "# plt.axis('off')\n",
        "# plt.imshow(data_augmentation(X)[0].numpy().astype(\"uint8\"))"
      ],
      "metadata": {
        "id": "JDsVLxFgaa0p"
      },
      "execution_count": 32,
      "outputs": []
    },
    {
      "cell_type": "code",
      "source": [
        "import tensorflow_hub as hub\n",
        "\n",
        "feature_extractor_model = (\n",
        "  \"https://tfhub.dev/google/imagenet/efficientnet_v2_imagenet1k_b0/feature_vector/2\"\n",
        ")"
      ],
      "metadata": {
        "id": "mhDop0-Aacb2"
      },
      "execution_count": 33,
      "outputs": []
    },
    {
      "cell_type": "code",
      "source": [
        "pretrained_model_without_top_layer = hub.KerasLayer(\n",
        "    feature_extractor_model,\n",
        "    input_shape=(224, 224, 3),\n",
        "    trainable=False\n",
        ")"
      ],
      "metadata": {
        "id": "vXYNg0Urad5S"
      },
      "execution_count": 34,
      "outputs": []
    },
    {
      "cell_type": "code",
      "source": [
        "feature_extractor = hub.KerasLayer(\n",
        "   \"https://tfhub.dev/google/imagenet/efficientnet_v2_imagenet1k_b0/feature_vector/2\",\n",
        "    input_shape=(224, 224, 3),  # must match model\n",
        "    trainable=False,\n",
        ")"
      ],
      "metadata": {
        "id": "V_oSNPx3aftS"
      },
      "execution_count": 35,
      "outputs": []
    },
    {
      "cell_type": "code",
      "source": [
        "NUM_CLASSES = 52"
      ],
      "metadata": {
        "id": "uTL3fHXkajdB"
      },
      "execution_count": 36,
      "outputs": []
    },
    {
      "cell_type": "code",
      "source": [
        "import tensorflow as tf\n",
        "\n",
        "class FeatureExtractorLayer(tf.keras.layers.Layer):\n",
        "    def __init__(self, feature_extractor, **kwargs):\n",
        "        super().__init__(**kwargs)\n",
        "        self.feature_extractor = feature_extractor\n",
        "\n",
        "    def call(self, inputs):\n",
        "        return self.feature_extractor(inputs)\n",
        "\n",
        "    def get_config(self):\n",
        "\n",
        "        config = super().get_config()\n",
        "\n",
        "        return config\n"
      ],
      "metadata": {
        "id": "O2xgPjkif74Y"
      },
      "execution_count": 37,
      "outputs": []
    },
    {
      "cell_type": "code",
      "source": [
        "model = tf.keras.Sequential([\n",
        "    data_augmentation,\n",
        "    FeatureExtractorLayer(feature_extractor),\n",
        "    tf.keras.layers.Dense(256, activation='relu'),\n",
        "    tf.keras.layers.BatchNormalization(),\n",
        "    tf.keras.layers.Dropout(0.3),\n",
        "    tf.keras.layers.Dense(NUM_CLASSES, activation='softmax')\n",
        "])\n"
      ],
      "metadata": {
        "id": "kr8c1FeyalLN"
      },
      "execution_count": 38,
      "outputs": []
    },
    {
      "cell_type": "code",
      "source": [
        "model.compile(optimizer='adam',\n",
        "              loss='sparse_categorical_crossentropy',\n",
        "              metrics=['accuracy'])"
      ],
      "metadata": {
        "id": "QEubKeM7amss"
      },
      "execution_count": 39,
      "outputs": []
    },
    {
      "cell_type": "code",
      "source": [
        "model.fit(X_train_scaled, y_train, epochs=100, validation_split=0.1)"
      ],
      "metadata": {
        "colab": {
          "base_uri": "https://localhost:8080/"
        },
        "id": "dbbKOAKUicdp",
        "outputId": "3e870f0b-69f0-4525-fc7a-31581bb13161"
      },
      "execution_count": 40,
      "outputs": [
        {
          "output_type": "stream",
          "name": "stdout",
          "text": [
            "Epoch 1/100\n",
            "\u001b[1m81/81\u001b[0m \u001b[32m━━━━━━━━━━━━━━━━━━━━\u001b[0m\u001b[37m\u001b[0m \u001b[1m24s\u001b[0m 93ms/step - accuracy: 0.0806 - loss: 4.0433 - val_accuracy: 0.1394 - val_loss: 3.3536\n",
            "Epoch 2/100\n",
            "\u001b[1m81/81\u001b[0m \u001b[32m━━━━━━━━━━━━━━━━━━━━\u001b[0m\u001b[37m\u001b[0m \u001b[1m12s\u001b[0m 62ms/step - accuracy: 0.2667 - loss: 2.6636 - val_accuracy: 0.3066 - val_loss: 2.6467\n",
            "Epoch 3/100\n",
            "\u001b[1m81/81\u001b[0m \u001b[32m━━━━━━━━━━━━━━━━━━━━\u001b[0m\u001b[37m\u001b[0m \u001b[1m5s\u001b[0m 62ms/step - accuracy: 0.4033 - loss: 2.0776 - val_accuracy: 0.4460 - val_loss: 2.1311\n",
            "Epoch 4/100\n",
            "\u001b[1m81/81\u001b[0m \u001b[32m━━━━━━━━━━━━━━━━━━━━\u001b[0m\u001b[37m\u001b[0m \u001b[1m5s\u001b[0m 59ms/step - accuracy: 0.4932 - loss: 1.7114 - val_accuracy: 0.4216 - val_loss: 1.9597\n",
            "Epoch 5/100\n",
            "\u001b[1m81/81\u001b[0m \u001b[32m━━━━━━━━━━━━━━━━━━━━\u001b[0m\u001b[37m\u001b[0m \u001b[1m6s\u001b[0m 64ms/step - accuracy: 0.5364 - loss: 1.5474 - val_accuracy: 0.5610 - val_loss: 1.5297\n",
            "Epoch 6/100\n",
            "\u001b[1m81/81\u001b[0m \u001b[32m━━━━━━━━━━━━━━━━━━━━\u001b[0m\u001b[37m\u001b[0m \u001b[1m10s\u001b[0m 60ms/step - accuracy: 0.5964 - loss: 1.3525 - val_accuracy: 0.5052 - val_loss: 1.4910\n",
            "Epoch 7/100\n",
            "\u001b[1m81/81\u001b[0m \u001b[32m━━━━━━━━━━━━━━━━━━━━\u001b[0m\u001b[37m\u001b[0m \u001b[1m5s\u001b[0m 64ms/step - accuracy: 0.6191 - loss: 1.2577 - val_accuracy: 0.6063 - val_loss: 1.3582\n",
            "Epoch 8/100\n",
            "\u001b[1m81/81\u001b[0m \u001b[32m━━━━━━━━━━━━━━━━━━━━\u001b[0m\u001b[37m\u001b[0m \u001b[1m5s\u001b[0m 60ms/step - accuracy: 0.6282 - loss: 1.1759 - val_accuracy: 0.5505 - val_loss: 1.3671\n",
            "Epoch 9/100\n",
            "\u001b[1m81/81\u001b[0m \u001b[32m━━━━━━━━━━━━━━━━━━━━\u001b[0m\u001b[37m\u001b[0m \u001b[1m5s\u001b[0m 62ms/step - accuracy: 0.6468 - loss: 1.1144 - val_accuracy: 0.6167 - val_loss: 1.2595\n",
            "Epoch 10/100\n",
            "\u001b[1m81/81\u001b[0m \u001b[32m━━━━━━━━━━━━━━━━━━━━\u001b[0m\u001b[37m\u001b[0m \u001b[1m5s\u001b[0m 59ms/step - accuracy: 0.6781 - loss: 1.0213 - val_accuracy: 0.5889 - val_loss: 1.2683\n",
            "Epoch 11/100\n",
            "\u001b[1m81/81\u001b[0m \u001b[32m━━━━━━━━━━━━━━━━━━━━\u001b[0m\u001b[37m\u001b[0m \u001b[1m5s\u001b[0m 64ms/step - accuracy: 0.6777 - loss: 1.0181 - val_accuracy: 0.5958 - val_loss: 1.2471\n",
            "Epoch 12/100\n",
            "\u001b[1m81/81\u001b[0m \u001b[32m━━━━━━━━━━━━━━━━━━━━\u001b[0m\u001b[37m\u001b[0m \u001b[1m5s\u001b[0m 62ms/step - accuracy: 0.6813 - loss: 0.9678 - val_accuracy: 0.6620 - val_loss: 1.0304\n",
            "Epoch 13/100\n",
            "\u001b[1m81/81\u001b[0m \u001b[32m━━━━━━━━━━━━━━━━━━━━\u001b[0m\u001b[37m\u001b[0m \u001b[1m5s\u001b[0m 60ms/step - accuracy: 0.7181 - loss: 0.8867 - val_accuracy: 0.6272 - val_loss: 1.1467\n",
            "Epoch 14/100\n",
            "\u001b[1m81/81\u001b[0m \u001b[32m━━━━━━━━━━━━━━━━━━━━\u001b[0m\u001b[37m\u001b[0m \u001b[1m5s\u001b[0m 65ms/step - accuracy: 0.7142 - loss: 0.8890 - val_accuracy: 0.6376 - val_loss: 1.0779\n",
            "Epoch 15/100\n",
            "\u001b[1m81/81\u001b[0m \u001b[32m━━━━━━━━━━━━━━━━━━━━\u001b[0m\u001b[37m\u001b[0m \u001b[1m10s\u001b[0m 65ms/step - accuracy: 0.7230 - loss: 0.8504 - val_accuracy: 0.6202 - val_loss: 1.2051\n",
            "Epoch 16/100\n",
            "\u001b[1m81/81\u001b[0m \u001b[32m━━━━━━━━━━━━━━━━━━━━\u001b[0m\u001b[37m\u001b[0m \u001b[1m10s\u001b[0m 62ms/step - accuracy: 0.7026 - loss: 0.9062 - val_accuracy: 0.6794 - val_loss: 1.0575\n",
            "Epoch 17/100\n",
            "\u001b[1m81/81\u001b[0m \u001b[32m━━━━━━━━━━━━━━━━━━━━\u001b[0m\u001b[37m\u001b[0m \u001b[1m5s\u001b[0m 62ms/step - accuracy: 0.7266 - loss: 0.8345 - val_accuracy: 0.6864 - val_loss: 0.9100\n",
            "Epoch 18/100\n",
            "\u001b[1m81/81\u001b[0m \u001b[32m━━━━━━━━━━━━━━━━━━━━\u001b[0m\u001b[37m\u001b[0m \u001b[1m5s\u001b[0m 62ms/step - accuracy: 0.7530 - loss: 0.7858 - val_accuracy: 0.6167 - val_loss: 1.2050\n",
            "Epoch 19/100\n",
            "\u001b[1m81/81\u001b[0m \u001b[32m━━━━━━━━━━━━━━━━━━━━\u001b[0m\u001b[37m\u001b[0m \u001b[1m5s\u001b[0m 66ms/step - accuracy: 0.7516 - loss: 0.7818 - val_accuracy: 0.6725 - val_loss: 0.9652\n",
            "Epoch 20/100\n",
            "\u001b[1m81/81\u001b[0m \u001b[32m━━━━━━━━━━━━━━━━━━━━\u001b[0m\u001b[37m\u001b[0m \u001b[1m10s\u001b[0m 63ms/step - accuracy: 0.7487 - loss: 0.7694 - val_accuracy: 0.6585 - val_loss: 1.0271\n",
            "Epoch 21/100\n",
            "\u001b[1m81/81\u001b[0m \u001b[32m━━━━━━━━━━━━━━━━━━━━\u001b[0m\u001b[37m\u001b[0m \u001b[1m10s\u001b[0m 61ms/step - accuracy: 0.7544 - loss: 0.7378 - val_accuracy: 0.6899 - val_loss: 1.0023\n",
            "Epoch 22/100\n",
            "\u001b[1m81/81\u001b[0m \u001b[32m━━━━━━━━━━━━━━━━━━━━\u001b[0m\u001b[37m\u001b[0m \u001b[1m5s\u001b[0m 62ms/step - accuracy: 0.7626 - loss: 0.7519 - val_accuracy: 0.6098 - val_loss: 1.2723\n",
            "Epoch 23/100\n",
            "\u001b[1m81/81\u001b[0m \u001b[32m━━━━━━━━━━━━━━━━━━━━\u001b[0m\u001b[37m\u001b[0m \u001b[1m5s\u001b[0m 63ms/step - accuracy: 0.7563 - loss: 0.7335 - val_accuracy: 0.6585 - val_loss: 1.0317\n",
            "Epoch 24/100\n",
            "\u001b[1m81/81\u001b[0m \u001b[32m━━━━━━━━━━━━━━━━━━━━\u001b[0m\u001b[37m\u001b[0m \u001b[1m5s\u001b[0m 65ms/step - accuracy: 0.7683 - loss: 0.7204 - val_accuracy: 0.6620 - val_loss: 1.0322\n",
            "Epoch 25/100\n",
            "\u001b[1m81/81\u001b[0m \u001b[32m━━━━━━━━━━━━━━━━━━━━\u001b[0m\u001b[37m\u001b[0m \u001b[1m5s\u001b[0m 62ms/step - accuracy: 0.7688 - loss: 0.6816 - val_accuracy: 0.6655 - val_loss: 1.0112\n",
            "Epoch 26/100\n",
            "\u001b[1m81/81\u001b[0m \u001b[32m━━━━━━━━━━━━━━━━━━━━\u001b[0m\u001b[37m\u001b[0m \u001b[1m5s\u001b[0m 65ms/step - accuracy: 0.7498 - loss: 0.7362 - val_accuracy: 0.6829 - val_loss: 0.9401\n",
            "Epoch 27/100\n",
            "\u001b[1m81/81\u001b[0m \u001b[32m━━━━━━━━━━━━━━━━━━━━\u001b[0m\u001b[37m\u001b[0m \u001b[1m5s\u001b[0m 63ms/step - accuracy: 0.7710 - loss: 0.6676 - val_accuracy: 0.6690 - val_loss: 1.0846\n",
            "Epoch 28/100\n",
            "\u001b[1m81/81\u001b[0m \u001b[32m━━━━━━━━━━━━━━━━━━━━\u001b[0m\u001b[37m\u001b[0m \u001b[1m5s\u001b[0m 61ms/step - accuracy: 0.7835 - loss: 0.6476 - val_accuracy: 0.6864 - val_loss: 0.9659\n",
            "Epoch 29/100\n",
            "\u001b[1m81/81\u001b[0m \u001b[32m━━━━━━━━━━━━━━━━━━━━\u001b[0m\u001b[37m\u001b[0m \u001b[1m5s\u001b[0m 64ms/step - accuracy: 0.7591 - loss: 0.6963 - val_accuracy: 0.7213 - val_loss: 0.8850\n",
            "Epoch 30/100\n",
            "\u001b[1m81/81\u001b[0m \u001b[32m━━━━━━━━━━━━━━━━━━━━\u001b[0m\u001b[37m\u001b[0m \u001b[1m10s\u001b[0m 66ms/step - accuracy: 0.7712 - loss: 0.6826 - val_accuracy: 0.6829 - val_loss: 0.9379\n",
            "Epoch 31/100\n",
            "\u001b[1m81/81\u001b[0m \u001b[32m━━━━━━━━━━━━━━━━━━━━\u001b[0m\u001b[37m\u001b[0m \u001b[1m10s\u001b[0m 63ms/step - accuracy: 0.7850 - loss: 0.6236 - val_accuracy: 0.7352 - val_loss: 0.7836\n",
            "Epoch 32/100\n",
            "\u001b[1m81/81\u001b[0m \u001b[32m━━━━━━━━━━━━━━━━━━━━\u001b[0m\u001b[37m\u001b[0m \u001b[1m5s\u001b[0m 60ms/step - accuracy: 0.7770 - loss: 0.6841 - val_accuracy: 0.6411 - val_loss: 0.9912\n",
            "Epoch 33/100\n",
            "\u001b[1m81/81\u001b[0m \u001b[32m━━━━━━━━━━━━━━━━━━━━\u001b[0m\u001b[37m\u001b[0m \u001b[1m5s\u001b[0m 61ms/step - accuracy: 0.7916 - loss: 0.6412 - val_accuracy: 0.6551 - val_loss: 1.0015\n",
            "Epoch 34/100\n",
            "\u001b[1m81/81\u001b[0m \u001b[32m━━━━━━━━━━━━━━━━━━━━\u001b[0m\u001b[37m\u001b[0m \u001b[1m5s\u001b[0m 65ms/step - accuracy: 0.7706 - loss: 0.6517 - val_accuracy: 0.6655 - val_loss: 1.0628\n",
            "Epoch 35/100\n",
            "\u001b[1m81/81\u001b[0m \u001b[32m━━━━━━━━━━━━━━━━━━━━\u001b[0m\u001b[37m\u001b[0m \u001b[1m10s\u001b[0m 65ms/step - accuracy: 0.7646 - loss: 0.6645 - val_accuracy: 0.7213 - val_loss: 0.8949\n",
            "Epoch 36/100\n",
            "\u001b[1m81/81\u001b[0m \u001b[32m━━━━━━━━━━━━━━━━━━━━\u001b[0m\u001b[37m\u001b[0m \u001b[1m10s\u001b[0m 63ms/step - accuracy: 0.7913 - loss: 0.6310 - val_accuracy: 0.6760 - val_loss: 0.9939\n",
            "Epoch 37/100\n",
            "\u001b[1m81/81\u001b[0m \u001b[32m━━━━━━━━━━━━━━━━━━━━\u001b[0m\u001b[37m\u001b[0m \u001b[1m5s\u001b[0m 64ms/step - accuracy: 0.7943 - loss: 0.6024 - val_accuracy: 0.6934 - val_loss: 0.8989\n",
            "Epoch 38/100\n",
            "\u001b[1m81/81\u001b[0m \u001b[32m━━━━━━━━━━━━━━━━━━━━\u001b[0m\u001b[37m\u001b[0m \u001b[1m10s\u001b[0m 67ms/step - accuracy: 0.7969 - loss: 0.5922 - val_accuracy: 0.6690 - val_loss: 0.9814\n",
            "Epoch 39/100\n",
            "\u001b[1m81/81\u001b[0m \u001b[32m━━━━━━━━━━━━━━━━━━━━\u001b[0m\u001b[37m\u001b[0m \u001b[1m10s\u001b[0m 67ms/step - accuracy: 0.7748 - loss: 0.6444 - val_accuracy: 0.6063 - val_loss: 1.2086\n",
            "Epoch 40/100\n",
            "\u001b[1m81/81\u001b[0m \u001b[32m━━━━━━━━━━━━━━━━━━━━\u001b[0m\u001b[37m\u001b[0m \u001b[1m5s\u001b[0m 60ms/step - accuracy: 0.7881 - loss: 0.6437 - val_accuracy: 0.6864 - val_loss: 1.0119\n",
            "Epoch 41/100\n",
            "\u001b[1m81/81\u001b[0m \u001b[32m━━━━━━━━━━━━━━━━━━━━\u001b[0m\u001b[37m\u001b[0m \u001b[1m5s\u001b[0m 65ms/step - accuracy: 0.8117 - loss: 0.5572 - val_accuracy: 0.7247 - val_loss: 0.9079\n",
            "Epoch 42/100\n",
            "\u001b[1m81/81\u001b[0m \u001b[32m━━━━━━━━━━━━━━━━━━━━\u001b[0m\u001b[37m\u001b[0m \u001b[1m10s\u001b[0m 61ms/step - accuracy: 0.8124 - loss: 0.5771 - val_accuracy: 0.6864 - val_loss: 0.9121\n",
            "Epoch 43/100\n",
            "\u001b[1m81/81\u001b[0m \u001b[32m━━━━━━━━━━━━━━━━━━━━\u001b[0m\u001b[37m\u001b[0m \u001b[1m5s\u001b[0m 65ms/step - accuracy: 0.7898 - loss: 0.6121 - val_accuracy: 0.7352 - val_loss: 0.8604\n",
            "Epoch 44/100\n",
            "\u001b[1m81/81\u001b[0m \u001b[32m━━━━━━━━━━━━━━━━━━━━\u001b[0m\u001b[37m\u001b[0m \u001b[1m10s\u001b[0m 66ms/step - accuracy: 0.7796 - loss: 0.6334 - val_accuracy: 0.6934 - val_loss: 0.9441\n",
            "Epoch 45/100\n",
            "\u001b[1m81/81\u001b[0m \u001b[32m━━━━━━━━━━━━━━━━━━━━\u001b[0m\u001b[37m\u001b[0m \u001b[1m10s\u001b[0m 64ms/step - accuracy: 0.8060 - loss: 0.5579 - val_accuracy: 0.7073 - val_loss: 0.8310\n",
            "Epoch 46/100\n",
            "\u001b[1m81/81\u001b[0m \u001b[32m━━━━━━━━━━━━━━━━━━━━\u001b[0m\u001b[37m\u001b[0m \u001b[1m10s\u001b[0m 61ms/step - accuracy: 0.7895 - loss: 0.6085 - val_accuracy: 0.7108 - val_loss: 0.8790\n",
            "Epoch 47/100\n",
            "\u001b[1m81/81\u001b[0m \u001b[32m━━━━━━━━━━━━━━━━━━━━\u001b[0m\u001b[37m\u001b[0m \u001b[1m5s\u001b[0m 65ms/step - accuracy: 0.8127 - loss: 0.5535 - val_accuracy: 0.7213 - val_loss: 0.7419\n",
            "Epoch 48/100\n",
            "\u001b[1m81/81\u001b[0m \u001b[32m━━━━━━━━━━━━━━━━━━━━\u001b[0m\u001b[37m\u001b[0m \u001b[1m5s\u001b[0m 61ms/step - accuracy: 0.8042 - loss: 0.5711 - val_accuracy: 0.7213 - val_loss: 0.9249\n",
            "Epoch 49/100\n",
            "\u001b[1m81/81\u001b[0m \u001b[32m━━━━━━━━━━━━━━━━━━━━\u001b[0m\u001b[37m\u001b[0m \u001b[1m5s\u001b[0m 63ms/step - accuracy: 0.8044 - loss: 0.5571 - val_accuracy: 0.7282 - val_loss: 0.7940\n",
            "Epoch 50/100\n",
            "\u001b[1m81/81\u001b[0m \u001b[32m━━━━━━━━━━━━━━━━━━━━\u001b[0m\u001b[37m\u001b[0m \u001b[1m10s\u001b[0m 65ms/step - accuracy: 0.8061 - loss: 0.5857 - val_accuracy: 0.6899 - val_loss: 0.9712\n",
            "Epoch 51/100\n",
            "\u001b[1m81/81\u001b[0m \u001b[32m━━━━━━━━━━━━━━━━━━━━\u001b[0m\u001b[37m\u001b[0m \u001b[1m5s\u001b[0m 63ms/step - accuracy: 0.8228 - loss: 0.5198 - val_accuracy: 0.7178 - val_loss: 0.8254\n",
            "Epoch 52/100\n",
            "\u001b[1m81/81\u001b[0m \u001b[32m━━━━━━━━━━━━━━━━━━━━\u001b[0m\u001b[37m\u001b[0m \u001b[1m5s\u001b[0m 60ms/step - accuracy: 0.8056 - loss: 0.5341 - val_accuracy: 0.6864 - val_loss: 1.0593\n",
            "Epoch 53/100\n",
            "\u001b[1m81/81\u001b[0m \u001b[32m━━━━━━━━━━━━━━━━━━━━\u001b[0m\u001b[37m\u001b[0m \u001b[1m5s\u001b[0m 65ms/step - accuracy: 0.8028 - loss: 0.5756 - val_accuracy: 0.7178 - val_loss: 0.8373\n",
            "Epoch 54/100\n",
            "\u001b[1m81/81\u001b[0m \u001b[32m━━━━━━━━━━━━━━━━━━━━\u001b[0m\u001b[37m\u001b[0m \u001b[1m5s\u001b[0m 61ms/step - accuracy: 0.8014 - loss: 0.5793 - val_accuracy: 0.7178 - val_loss: 0.7938\n",
            "Epoch 55/100\n",
            "\u001b[1m81/81\u001b[0m \u001b[32m━━━━━━━━━━━━━━━━━━━━\u001b[0m\u001b[37m\u001b[0m \u001b[1m5s\u001b[0m 65ms/step - accuracy: 0.8133 - loss: 0.5640 - val_accuracy: 0.6864 - val_loss: 0.9133\n",
            "Epoch 56/100\n",
            "\u001b[1m81/81\u001b[0m \u001b[32m━━━━━━━━━━━━━━━━━━━━\u001b[0m\u001b[37m\u001b[0m \u001b[1m10s\u001b[0m 64ms/step - accuracy: 0.8093 - loss: 0.5429 - val_accuracy: 0.6969 - val_loss: 0.9337\n",
            "Epoch 57/100\n",
            "\u001b[1m81/81\u001b[0m \u001b[32m━━━━━━━━━━━━━━━━━━━━\u001b[0m\u001b[37m\u001b[0m \u001b[1m10s\u001b[0m 61ms/step - accuracy: 0.8014 - loss: 0.5769 - val_accuracy: 0.6307 - val_loss: 1.0423\n",
            "Epoch 58/100\n",
            "\u001b[1m81/81\u001b[0m \u001b[32m━━━━━━━━━━━━━━━━━━━━\u001b[0m\u001b[37m\u001b[0m \u001b[1m5s\u001b[0m 63ms/step - accuracy: 0.7933 - loss: 0.5634 - val_accuracy: 0.7247 - val_loss: 0.9231\n",
            "Epoch 59/100\n",
            "\u001b[1m81/81\u001b[0m \u001b[32m━━━━━━━━━━━━━━━━━━━━\u001b[0m\u001b[37m\u001b[0m \u001b[1m5s\u001b[0m 61ms/step - accuracy: 0.8166 - loss: 0.5576 - val_accuracy: 0.6620 - val_loss: 0.9852\n",
            "Epoch 60/100\n",
            "\u001b[1m81/81\u001b[0m \u001b[32m━━━━━━━━━━━━━━━━━━━━\u001b[0m\u001b[37m\u001b[0m \u001b[1m5s\u001b[0m 66ms/step - accuracy: 0.8105 - loss: 0.5443 - val_accuracy: 0.6969 - val_loss: 0.9111\n",
            "Epoch 61/100\n",
            "\u001b[1m81/81\u001b[0m \u001b[32m━━━━━━━━━━━━━━━━━━━━\u001b[0m\u001b[37m\u001b[0m \u001b[1m5s\u001b[0m 61ms/step - accuracy: 0.8205 - loss: 0.5245 - val_accuracy: 0.6411 - val_loss: 0.9822\n",
            "Epoch 62/100\n",
            "\u001b[1m81/81\u001b[0m \u001b[32m━━━━━━━━━━━━━━━━━━━━\u001b[0m\u001b[37m\u001b[0m \u001b[1m5s\u001b[0m 64ms/step - accuracy: 0.8063 - loss: 0.5704 - val_accuracy: 0.7073 - val_loss: 0.8717\n",
            "Epoch 63/100\n",
            "\u001b[1m81/81\u001b[0m \u001b[32m━━━━━━━━━━━━━━━━━━━━\u001b[0m\u001b[37m\u001b[0m \u001b[1m10s\u001b[0m 61ms/step - accuracy: 0.8064 - loss: 0.5569 - val_accuracy: 0.6969 - val_loss: 0.8864\n",
            "Epoch 64/100\n",
            "\u001b[1m81/81\u001b[0m \u001b[32m━━━━━━━━━━━━━━━━━━━━\u001b[0m\u001b[37m\u001b[0m \u001b[1m5s\u001b[0m 63ms/step - accuracy: 0.8048 - loss: 0.5627 - val_accuracy: 0.6690 - val_loss: 0.9939\n",
            "Epoch 65/100\n",
            "\u001b[1m81/81\u001b[0m \u001b[32m━━━━━━━━━━━━━━━━━━━━\u001b[0m\u001b[37m\u001b[0m \u001b[1m10s\u001b[0m 64ms/step - accuracy: 0.8439 - loss: 0.4934 - val_accuracy: 0.6585 - val_loss: 1.0680\n",
            "Epoch 66/100\n",
            "\u001b[1m81/81\u001b[0m \u001b[32m━━━━━━━━━━━━━━━━━━━━\u001b[0m\u001b[37m\u001b[0m \u001b[1m5s\u001b[0m 63ms/step - accuracy: 0.8004 - loss: 0.5794 - val_accuracy: 0.7038 - val_loss: 0.9638\n",
            "Epoch 67/100\n",
            "\u001b[1m81/81\u001b[0m \u001b[32m━━━━━━━━━━━━━━━━━━━━\u001b[0m\u001b[37m\u001b[0m \u001b[1m5s\u001b[0m 63ms/step - accuracy: 0.8129 - loss: 0.5218 - val_accuracy: 0.6725 - val_loss: 0.9660\n",
            "Epoch 68/100\n",
            "\u001b[1m81/81\u001b[0m \u001b[32m━━━━━━━━━━━━━━━━━━━━\u001b[0m\u001b[37m\u001b[0m \u001b[1m5s\u001b[0m 62ms/step - accuracy: 0.8258 - loss: 0.5346 - val_accuracy: 0.7387 - val_loss: 0.9079\n",
            "Epoch 69/100\n",
            "\u001b[1m81/81\u001b[0m \u001b[32m━━━━━━━━━━━━━━━━━━━━\u001b[0m\u001b[37m\u001b[0m \u001b[1m5s\u001b[0m 61ms/step - accuracy: 0.8130 - loss: 0.5316 - val_accuracy: 0.6794 - val_loss: 0.9699\n",
            "Epoch 70/100\n",
            "\u001b[1m81/81\u001b[0m \u001b[32m━━━━━━━━━━━━━━━━━━━━\u001b[0m\u001b[37m\u001b[0m \u001b[1m5s\u001b[0m 65ms/step - accuracy: 0.8355 - loss: 0.4739 - val_accuracy: 0.7213 - val_loss: 0.8140\n",
            "Epoch 71/100\n",
            "\u001b[1m81/81\u001b[0m \u001b[32m━━━━━━━━━━━━━━━━━━━━\u001b[0m\u001b[37m\u001b[0m \u001b[1m10s\u001b[0m 64ms/step - accuracy: 0.8239 - loss: 0.5116 - val_accuracy: 0.7317 - val_loss: 0.8000\n",
            "Epoch 72/100\n",
            "\u001b[1m81/81\u001b[0m \u001b[32m━━━━━━━━━━━━━━━━━━━━\u001b[0m\u001b[37m\u001b[0m \u001b[1m10s\u001b[0m 63ms/step - accuracy: 0.8310 - loss: 0.5320 - val_accuracy: 0.6794 - val_loss: 0.9504\n",
            "Epoch 73/100\n",
            "\u001b[1m81/81\u001b[0m \u001b[32m━━━━━━━━━━━━━━━━━━━━\u001b[0m\u001b[37m\u001b[0m \u001b[1m10s\u001b[0m 64ms/step - accuracy: 0.8240 - loss: 0.5263 - val_accuracy: 0.7387 - val_loss: 0.8011\n",
            "Epoch 74/100\n",
            "\u001b[1m81/81\u001b[0m \u001b[32m━━━━━━━━━━━━━━━━━━━━\u001b[0m\u001b[37m\u001b[0m \u001b[1m5s\u001b[0m 64ms/step - accuracy: 0.8127 - loss: 0.5552 - val_accuracy: 0.7213 - val_loss: 0.8402\n",
            "Epoch 75/100\n",
            "\u001b[1m81/81\u001b[0m \u001b[32m━━━━━━━━━━━━━━━━━━━━\u001b[0m\u001b[37m\u001b[0m \u001b[1m10s\u001b[0m 66ms/step - accuracy: 0.8219 - loss: 0.4829 - val_accuracy: 0.7073 - val_loss: 0.9572\n",
            "Epoch 76/100\n",
            "\u001b[1m81/81\u001b[0m \u001b[32m━━━━━━━━━━━━━━━━━━━━\u001b[0m\u001b[37m\u001b[0m \u001b[1m10s\u001b[0m 64ms/step - accuracy: 0.8206 - loss: 0.4994 - val_accuracy: 0.6969 - val_loss: 0.9719\n",
            "Epoch 77/100\n",
            "\u001b[1m81/81\u001b[0m \u001b[32m━━━━━━━━━━━━━━━━━━━━\u001b[0m\u001b[37m\u001b[0m \u001b[1m10s\u001b[0m 62ms/step - accuracy: 0.8260 - loss: 0.4875 - val_accuracy: 0.7108 - val_loss: 0.8544\n",
            "Epoch 78/100\n",
            "\u001b[1m81/81\u001b[0m \u001b[32m━━━━━━━━━━━━━━━━━━━━\u001b[0m\u001b[37m\u001b[0m \u001b[1m5s\u001b[0m 64ms/step - accuracy: 0.8183 - loss: 0.5162 - val_accuracy: 0.7491 - val_loss: 0.8047\n",
            "Epoch 79/100\n",
            "\u001b[1m81/81\u001b[0m \u001b[32m━━━━━━━━━━━━━━━━━━━━\u001b[0m\u001b[37m\u001b[0m \u001b[1m10s\u001b[0m 64ms/step - accuracy: 0.8308 - loss: 0.4987 - val_accuracy: 0.6969 - val_loss: 0.8850\n",
            "Epoch 80/100\n",
            "\u001b[1m81/81\u001b[0m \u001b[32m━━━━━━━━━━━━━━━━━━━━\u001b[0m\u001b[37m\u001b[0m \u001b[1m10s\u001b[0m 64ms/step - accuracy: 0.8290 - loss: 0.5128 - val_accuracy: 0.7038 - val_loss: 0.8681\n",
            "Epoch 81/100\n",
            "\u001b[1m81/81\u001b[0m \u001b[32m━━━━━━━━━━━━━━━━━━━━\u001b[0m\u001b[37m\u001b[0m \u001b[1m10s\u001b[0m 64ms/step - accuracy: 0.8099 - loss: 0.5348 - val_accuracy: 0.7247 - val_loss: 0.9101\n",
            "Epoch 82/100\n",
            "\u001b[1m81/81\u001b[0m \u001b[32m━━━━━━━━━━━━━━━━━━━━\u001b[0m\u001b[37m\u001b[0m \u001b[1m10s\u001b[0m 64ms/step - accuracy: 0.8150 - loss: 0.5235 - val_accuracy: 0.7700 - val_loss: 0.7634\n",
            "Epoch 83/100\n",
            "\u001b[1m81/81\u001b[0m \u001b[32m━━━━━━━━━━━━━━━━━━━━\u001b[0m\u001b[37m\u001b[0m \u001b[1m5s\u001b[0m 64ms/step - accuracy: 0.8283 - loss: 0.4969 - val_accuracy: 0.7108 - val_loss: 0.9644\n",
            "Epoch 84/100\n",
            "\u001b[1m81/81\u001b[0m \u001b[32m━━━━━━━━━━━━━━━━━━━━\u001b[0m\u001b[37m\u001b[0m \u001b[1m10s\u001b[0m 66ms/step - accuracy: 0.8265 - loss: 0.4895 - val_accuracy: 0.6934 - val_loss: 0.8920\n",
            "Epoch 85/100\n",
            "\u001b[1m81/81\u001b[0m \u001b[32m━━━━━━━━━━━━━━━━━━━━\u001b[0m\u001b[37m\u001b[0m \u001b[1m5s\u001b[0m 62ms/step - accuracy: 0.8407 - loss: 0.4612 - val_accuracy: 0.6864 - val_loss: 0.9559\n",
            "Epoch 86/100\n",
            "\u001b[1m81/81\u001b[0m \u001b[32m━━━━━━━━━━━━━━━━━━━━\u001b[0m\u001b[37m\u001b[0m \u001b[1m5s\u001b[0m 63ms/step - accuracy: 0.8380 - loss: 0.4819 - val_accuracy: 0.7352 - val_loss: 0.8853\n",
            "Epoch 87/100\n",
            "\u001b[1m81/81\u001b[0m \u001b[32m━━━━━━━━━━━━━━━━━━━━\u001b[0m\u001b[37m\u001b[0m \u001b[1m5s\u001b[0m 66ms/step - accuracy: 0.8373 - loss: 0.4719 - val_accuracy: 0.6725 - val_loss: 1.0404\n",
            "Epoch 88/100\n",
            "\u001b[1m81/81\u001b[0m \u001b[32m━━━━━━━━━━━━━━━━━━━━\u001b[0m\u001b[37m\u001b[0m \u001b[1m10s\u001b[0m 64ms/step - accuracy: 0.8224 - loss: 0.4941 - val_accuracy: 0.7213 - val_loss: 0.8297\n",
            "Epoch 89/100\n",
            "\u001b[1m81/81\u001b[0m \u001b[32m━━━━━━━━━━━━━━━━━━━━\u001b[0m\u001b[37m\u001b[0m \u001b[1m5s\u001b[0m 61ms/step - accuracy: 0.8204 - loss: 0.5124 - val_accuracy: 0.6899 - val_loss: 0.9047\n",
            "Epoch 90/100\n",
            "\u001b[1m81/81\u001b[0m \u001b[32m━━━━━━━━━━━━━━━━━━━━\u001b[0m\u001b[37m\u001b[0m \u001b[1m5s\u001b[0m 62ms/step - accuracy: 0.8414 - loss: 0.4906 - val_accuracy: 0.7003 - val_loss: 0.8793\n",
            "Epoch 91/100\n",
            "\u001b[1m81/81\u001b[0m \u001b[32m━━━━━━━━━━━━━━━━━━━━\u001b[0m\u001b[37m\u001b[0m \u001b[1m5s\u001b[0m 64ms/step - accuracy: 0.8346 - loss: 0.4966 - val_accuracy: 0.7247 - val_loss: 0.8410\n",
            "Epoch 92/100\n",
            "\u001b[1m81/81\u001b[0m \u001b[32m━━━━━━━━━━━━━━━━━━━━\u001b[0m\u001b[37m\u001b[0m \u001b[1m10s\u001b[0m 64ms/step - accuracy: 0.8286 - loss: 0.5085 - val_accuracy: 0.7352 - val_loss: 0.7988\n",
            "Epoch 93/100\n",
            "\u001b[1m81/81\u001b[0m \u001b[32m━━━━━━━━━━━━━━━━━━━━\u001b[0m\u001b[37m\u001b[0m \u001b[1m10s\u001b[0m 66ms/step - accuracy: 0.8264 - loss: 0.5068 - val_accuracy: 0.7213 - val_loss: 0.7865\n",
            "Epoch 94/100\n",
            "\u001b[1m81/81\u001b[0m \u001b[32m━━━━━━━━━━━━━━━━━━━━\u001b[0m\u001b[37m\u001b[0m \u001b[1m10s\u001b[0m 64ms/step - accuracy: 0.8159 - loss: 0.4907 - val_accuracy: 0.7247 - val_loss: 0.8468\n",
            "Epoch 95/100\n",
            "\u001b[1m81/81\u001b[0m \u001b[32m━━━━━━━━━━━━━━━━━━━━\u001b[0m\u001b[37m\u001b[0m \u001b[1m10s\u001b[0m 61ms/step - accuracy: 0.8256 - loss: 0.5083 - val_accuracy: 0.7247 - val_loss: 0.9284\n",
            "Epoch 96/100\n",
            "\u001b[1m81/81\u001b[0m \u001b[32m━━━━━━━━━━━━━━━━━━━━\u001b[0m\u001b[37m\u001b[0m \u001b[1m5s\u001b[0m 66ms/step - accuracy: 0.8334 - loss: 0.4979 - val_accuracy: 0.7178 - val_loss: 0.9801\n",
            "Epoch 97/100\n",
            "\u001b[1m81/81\u001b[0m \u001b[32m━━━━━━━━━━━━━━━━━━━━\u001b[0m\u001b[37m\u001b[0m \u001b[1m10s\u001b[0m 64ms/step - accuracy: 0.8328 - loss: 0.4800 - val_accuracy: 0.7003 - val_loss: 1.0506\n",
            "Epoch 98/100\n",
            "\u001b[1m81/81\u001b[0m \u001b[32m━━━━━━━━━━━━━━━━━━━━\u001b[0m\u001b[37m\u001b[0m \u001b[1m5s\u001b[0m 62ms/step - accuracy: 0.8237 - loss: 0.4922 - val_accuracy: 0.7352 - val_loss: 0.8077\n",
            "Epoch 99/100\n",
            "\u001b[1m81/81\u001b[0m \u001b[32m━━━━━━━━━━━━━━━━━━━━\u001b[0m\u001b[37m\u001b[0m \u001b[1m5s\u001b[0m 63ms/step - accuracy: 0.8442 - loss: 0.4539 - val_accuracy: 0.7038 - val_loss: 1.0249\n",
            "Epoch 100/100\n",
            "\u001b[1m81/81\u001b[0m \u001b[32m━━━━━━━━━━━━━━━━━━━━\u001b[0m\u001b[37m\u001b[0m \u001b[1m10s\u001b[0m 62ms/step - accuracy: 0.8240 - loss: 0.5103 - val_accuracy: 0.7038 - val_loss: 0.8694\n"
          ]
        },
        {
          "output_type": "execute_result",
          "data": {
            "text/plain": [
              "<keras.src.callbacks.history.History at 0x7f1a72225790>"
            ]
          },
          "metadata": {},
          "execution_count": 40
        }
      ]
    },
    {
      "cell_type": "code",
      "source": [
        "test_loss, test_accuracy = model.evaluate(X_test_scaled, y_test, verbose=2)\n",
        "\n",
        "print(f\"Test Accuracy: {test_accuracy:.4f}\")\n",
        "print(f\"Test Loss: {test_loss:.4f}\")"
      ],
      "metadata": {
        "colab": {
          "base_uri": "https://localhost:8080/"
        },
        "id": "ekz9QLlSca0F",
        "outputId": "76da5a9d-b949-42bc-9bcb-66c2d6f4daa0"
      },
      "execution_count": 42,
      "outputs": [
        {
          "output_type": "stream",
          "name": "stdout",
          "text": [
            "5/5 - 0s - 70ms/step - accuracy: 0.8013 - loss: 0.7434\n",
            "Test Accuracy: 0.8013\n",
            "Test Loss: 0.7434\n"
          ]
        }
      ]
    },
    {
      "cell_type": "code",
      "source": [
        "model.save(\"model.keras\")"
      ],
      "metadata": {
        "id": "_OlrHigQftzn"
      },
      "execution_count": 44,
      "outputs": []
    },
    {
      "cell_type": "code",
      "source": [
        "from google.colab import files\n",
        "files.download(\"model.keras\")"
      ],
      "metadata": {
        "colab": {
          "base_uri": "https://localhost:8080/",
          "height": 17
        },
        "id": "S61YR5ief_NE",
        "outputId": "b7c74e04-0f9d-4268-ebde-cb3783e22822"
      },
      "execution_count": 45,
      "outputs": [
        {
          "output_type": "display_data",
          "data": {
            "text/plain": [
              "<IPython.core.display.Javascript object>"
            ],
            "application/javascript": [
              "\n",
              "    async function download(id, filename, size) {\n",
              "      if (!google.colab.kernel.accessAllowed) {\n",
              "        return;\n",
              "      }\n",
              "      const div = document.createElement('div');\n",
              "      const label = document.createElement('label');\n",
              "      label.textContent = `Downloading \"${filename}\": `;\n",
              "      div.appendChild(label);\n",
              "      const progress = document.createElement('progress');\n",
              "      progress.max = size;\n",
              "      div.appendChild(progress);\n",
              "      document.body.appendChild(div);\n",
              "\n",
              "      const buffers = [];\n",
              "      let downloaded = 0;\n",
              "\n",
              "      const channel = await google.colab.kernel.comms.open(id);\n",
              "      // Send a message to notify the kernel that we're ready.\n",
              "      channel.send({})\n",
              "\n",
              "      for await (const message of channel.messages) {\n",
              "        // Send a message to notify the kernel that we're ready.\n",
              "        channel.send({})\n",
              "        if (message.buffers) {\n",
              "          for (const buffer of message.buffers) {\n",
              "            buffers.push(buffer);\n",
              "            downloaded += buffer.byteLength;\n",
              "            progress.value = downloaded;\n",
              "          }\n",
              "        }\n",
              "      }\n",
              "      const blob = new Blob(buffers, {type: 'application/binary'});\n",
              "      const a = document.createElement('a');\n",
              "      a.href = window.URL.createObjectURL(blob);\n",
              "      a.download = filename;\n",
              "      div.appendChild(a);\n",
              "      a.click();\n",
              "      div.remove();\n",
              "    }\n",
              "  "
            ]
          },
          "metadata": {}
        },
        {
          "output_type": "display_data",
          "data": {
            "text/plain": [
              "<IPython.core.display.Javascript object>"
            ],
            "application/javascript": [
              "download(\"download_6ae3a300-34a7-497c-b453-c8ccf3ed6992\", \"model.keras\", 4149573)"
            ]
          },
          "metadata": {}
        }
      ]
    },
    {
      "cell_type": "code",
      "source": [
        "model.summary()"
      ],
      "metadata": {
        "colab": {
          "base_uri": "https://localhost:8080/",
          "height": 391
        },
        "id": "YGJnsMNjpFQW",
        "outputId": "07ff98fa-f6ec-4905-fab8-8d408c6c2c12"
      },
      "execution_count": 46,
      "outputs": [
        {
          "output_type": "display_data",
          "data": {
            "text/plain": [
              "\u001b[1mModel: \"sequential_1\"\u001b[0m\n"
            ],
            "text/html": [
              "<pre style=\"white-space:pre;overflow-x:auto;line-height:normal;font-family:Menlo,'DejaVu Sans Mono',consolas,'Courier New',monospace\"><span style=\"font-weight: bold\">Model: \"sequential_1\"</span>\n",
              "</pre>\n"
            ]
          },
          "metadata": {}
        },
        {
          "output_type": "display_data",
          "data": {
            "text/plain": [
              "┏━━━━━━━━━━━━━━━━━━━━━━━━━━━━━━━━━┳━━━━━━━━━━━━━━━━━━━━━━━━┳━━━━━━━━━━━━━━━┓\n",
              "┃\u001b[1m \u001b[0m\u001b[1mLayer (type)                   \u001b[0m\u001b[1m \u001b[0m┃\u001b[1m \u001b[0m\u001b[1mOutput Shape          \u001b[0m\u001b[1m \u001b[0m┃\u001b[1m \u001b[0m\u001b[1m      Param #\u001b[0m\u001b[1m \u001b[0m┃\n",
              "┡━━━━━━━━━━━━━━━━━━━━━━━━━━━━━━━━━╇━━━━━━━━━━━━━━━━━━━━━━━━╇━━━━━━━━━━━━━━━┩\n",
              "│ sequential (\u001b[38;5;33mSequential\u001b[0m)         │ (\u001b[38;5;45mNone\u001b[0m, \u001b[38;5;34m224\u001b[0m, \u001b[38;5;34m224\u001b[0m, \u001b[38;5;34m3\u001b[0m)    │             \u001b[38;5;34m0\u001b[0m │\n",
              "├─────────────────────────────────┼────────────────────────┼───────────────┤\n",
              "│ feature_extractor_layer         │ (\u001b[38;5;45mNone\u001b[0m, \u001b[38;5;34m1280\u001b[0m)           │             \u001b[38;5;34m0\u001b[0m │\n",
              "│ (\u001b[38;5;33mFeatureExtractorLayer\u001b[0m)         │                        │               │\n",
              "├─────────────────────────────────┼────────────────────────┼───────────────┤\n",
              "│ dense (\u001b[38;5;33mDense\u001b[0m)                   │ (\u001b[38;5;45mNone\u001b[0m, \u001b[38;5;34m256\u001b[0m)            │       \u001b[38;5;34m327,936\u001b[0m │\n",
              "├─────────────────────────────────┼────────────────────────┼───────────────┤\n",
              "│ batch_normalization             │ (\u001b[38;5;45mNone\u001b[0m, \u001b[38;5;34m256\u001b[0m)            │         \u001b[38;5;34m1,024\u001b[0m │\n",
              "│ (\u001b[38;5;33mBatchNormalization\u001b[0m)            │                        │               │\n",
              "├─────────────────────────────────┼────────────────────────┼───────────────┤\n",
              "│ dropout (\u001b[38;5;33mDropout\u001b[0m)               │ (\u001b[38;5;45mNone\u001b[0m, \u001b[38;5;34m256\u001b[0m)            │             \u001b[38;5;34m0\u001b[0m │\n",
              "├─────────────────────────────────┼────────────────────────┼───────────────┤\n",
              "│ dense_1 (\u001b[38;5;33mDense\u001b[0m)                 │ (\u001b[38;5;45mNone\u001b[0m, \u001b[38;5;34m52\u001b[0m)             │        \u001b[38;5;34m13,364\u001b[0m │\n",
              "└─────────────────────────────────┴────────────────────────┴───────────────┘\n"
            ],
            "text/html": [
              "<pre style=\"white-space:pre;overflow-x:auto;line-height:normal;font-family:Menlo,'DejaVu Sans Mono',consolas,'Courier New',monospace\">┏━━━━━━━━━━━━━━━━━━━━━━━━━━━━━━━━━┳━━━━━━━━━━━━━━━━━━━━━━━━┳━━━━━━━━━━━━━━━┓\n",
              "┃<span style=\"font-weight: bold\"> Layer (type)                    </span>┃<span style=\"font-weight: bold\"> Output Shape           </span>┃<span style=\"font-weight: bold\">       Param # </span>┃\n",
              "┡━━━━━━━━━━━━━━━━━━━━━━━━━━━━━━━━━╇━━━━━━━━━━━━━━━━━━━━━━━━╇━━━━━━━━━━━━━━━┩\n",
              "│ sequential (<span style=\"color: #0087ff; text-decoration-color: #0087ff\">Sequential</span>)         │ (<span style=\"color: #00d7ff; text-decoration-color: #00d7ff\">None</span>, <span style=\"color: #00af00; text-decoration-color: #00af00\">224</span>, <span style=\"color: #00af00; text-decoration-color: #00af00\">224</span>, <span style=\"color: #00af00; text-decoration-color: #00af00\">3</span>)    │             <span style=\"color: #00af00; text-decoration-color: #00af00\">0</span> │\n",
              "├─────────────────────────────────┼────────────────────────┼───────────────┤\n",
              "│ feature_extractor_layer         │ (<span style=\"color: #00d7ff; text-decoration-color: #00d7ff\">None</span>, <span style=\"color: #00af00; text-decoration-color: #00af00\">1280</span>)           │             <span style=\"color: #00af00; text-decoration-color: #00af00\">0</span> │\n",
              "│ (<span style=\"color: #0087ff; text-decoration-color: #0087ff\">FeatureExtractorLayer</span>)         │                        │               │\n",
              "├─────────────────────────────────┼────────────────────────┼───────────────┤\n",
              "│ dense (<span style=\"color: #0087ff; text-decoration-color: #0087ff\">Dense</span>)                   │ (<span style=\"color: #00d7ff; text-decoration-color: #00d7ff\">None</span>, <span style=\"color: #00af00; text-decoration-color: #00af00\">256</span>)            │       <span style=\"color: #00af00; text-decoration-color: #00af00\">327,936</span> │\n",
              "├─────────────────────────────────┼────────────────────────┼───────────────┤\n",
              "│ batch_normalization             │ (<span style=\"color: #00d7ff; text-decoration-color: #00d7ff\">None</span>, <span style=\"color: #00af00; text-decoration-color: #00af00\">256</span>)            │         <span style=\"color: #00af00; text-decoration-color: #00af00\">1,024</span> │\n",
              "│ (<span style=\"color: #0087ff; text-decoration-color: #0087ff\">BatchNormalization</span>)            │                        │               │\n",
              "├─────────────────────────────────┼────────────────────────┼───────────────┤\n",
              "│ dropout (<span style=\"color: #0087ff; text-decoration-color: #0087ff\">Dropout</span>)               │ (<span style=\"color: #00d7ff; text-decoration-color: #00d7ff\">None</span>, <span style=\"color: #00af00; text-decoration-color: #00af00\">256</span>)            │             <span style=\"color: #00af00; text-decoration-color: #00af00\">0</span> │\n",
              "├─────────────────────────────────┼────────────────────────┼───────────────┤\n",
              "│ dense_1 (<span style=\"color: #0087ff; text-decoration-color: #0087ff\">Dense</span>)                 │ (<span style=\"color: #00d7ff; text-decoration-color: #00d7ff\">None</span>, <span style=\"color: #00af00; text-decoration-color: #00af00\">52</span>)             │        <span style=\"color: #00af00; text-decoration-color: #00af00\">13,364</span> │\n",
              "└─────────────────────────────────┴────────────────────────┴───────────────┘\n",
              "</pre>\n"
            ]
          },
          "metadata": {}
        },
        {
          "output_type": "display_data",
          "data": {
            "text/plain": [
              "\u001b[1m Total params: \u001b[0m\u001b[38;5;34m1,025,950\u001b[0m (3.91 MB)\n"
            ],
            "text/html": [
              "<pre style=\"white-space:pre;overflow-x:auto;line-height:normal;font-family:Menlo,'DejaVu Sans Mono',consolas,'Courier New',monospace\"><span style=\"font-weight: bold\"> Total params: </span><span style=\"color: #00af00; text-decoration-color: #00af00\">1,025,950</span> (3.91 MB)\n",
              "</pre>\n"
            ]
          },
          "metadata": {}
        },
        {
          "output_type": "display_data",
          "data": {
            "text/plain": [
              "\u001b[1m Trainable params: \u001b[0m\u001b[38;5;34m341,812\u001b[0m (1.30 MB)\n"
            ],
            "text/html": [
              "<pre style=\"white-space:pre;overflow-x:auto;line-height:normal;font-family:Menlo,'DejaVu Sans Mono',consolas,'Courier New',monospace\"><span style=\"font-weight: bold\"> Trainable params: </span><span style=\"color: #00af00; text-decoration-color: #00af00\">341,812</span> (1.30 MB)\n",
              "</pre>\n"
            ]
          },
          "metadata": {}
        },
        {
          "output_type": "display_data",
          "data": {
            "text/plain": [
              "\u001b[1m Non-trainable params: \u001b[0m\u001b[38;5;34m512\u001b[0m (2.00 KB)\n"
            ],
            "text/html": [
              "<pre style=\"white-space:pre;overflow-x:auto;line-height:normal;font-family:Menlo,'DejaVu Sans Mono',consolas,'Courier New',monospace\"><span style=\"font-weight: bold\"> Non-trainable params: </span><span style=\"color: #00af00; text-decoration-color: #00af00\">512</span> (2.00 KB)\n",
              "</pre>\n"
            ]
          },
          "metadata": {}
        },
        {
          "output_type": "display_data",
          "data": {
            "text/plain": [
              "\u001b[1m Optimizer params: \u001b[0m\u001b[38;5;34m683,626\u001b[0m (2.61 MB)\n"
            ],
            "text/html": [
              "<pre style=\"white-space:pre;overflow-x:auto;line-height:normal;font-family:Menlo,'DejaVu Sans Mono',consolas,'Courier New',monospace\"><span style=\"font-weight: bold\"> Optimizer params: </span><span style=\"color: #00af00; text-decoration-color: #00af00\">683,626</span> (2.61 MB)\n",
              "</pre>\n"
            ]
          },
          "metadata": {}
        }
      ]
    },
    {
      "cell_type": "code",
      "source": [
        "pip show tensorflow"
      ],
      "metadata": {
        "colab": {
          "base_uri": "https://localhost:8080/"
        },
        "id": "1OLtwCGNe2OT",
        "outputId": "a737b60f-d71b-45c7-8296-e8523f86342e"
      },
      "execution_count": null,
      "outputs": [
        {
          "output_type": "stream",
          "name": "stdout",
          "text": [
            "Name: tensorflow\n",
            "Version: 2.18.0\n",
            "Summary: TensorFlow is an open source machine learning framework for everyone.\n",
            "Home-page: https://www.tensorflow.org/\n",
            "Author: Google Inc.\n",
            "Author-email: packages@tensorflow.org\n",
            "License: Apache 2.0\n",
            "Location: /usr/local/lib/python3.11/dist-packages\n",
            "Requires: absl-py, astunparse, flatbuffers, gast, google-pasta, grpcio, h5py, keras, libclang, ml-dtypes, numpy, opt-einsum, packaging, protobuf, requests, setuptools, six, tensorboard, tensorflow-io-gcs-filesystem, termcolor, typing-extensions, wrapt\n",
            "Required-by: dopamine_rl, tensorflow-text, tensorflow_decision_forests, tf_keras\n"
          ]
        }
      ]
    },
    {
      "cell_type": "code",
      "source": [],
      "metadata": {
        "id": "GvXUheI8e4_v"
      },
      "execution_count": null,
      "outputs": []
    }
  ]
}